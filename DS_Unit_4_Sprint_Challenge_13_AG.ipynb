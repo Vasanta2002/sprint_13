{
  "cells": [
    {
      "cell_type": "markdown",
      "metadata": {
        "deletable": false,
        "editable": false,
        "nbgrader": {
          "cell_type": "markdown",
          "checksum": "f95c5acf8c3e89e0b0e482c04e0b8abf",
          "grade": false,
          "grade_id": "cell-e98be1092b48b377",
          "locked": true,
          "schema_version": 3,
          "solution": false,
          "task": false
        },
        "id": "_fKA41KnzPRY"
      },
      "source": [
        "# Sprint Challenge\n",
        "## *Data Science Sprint 13*\n",
        "\n",
        "After a sprint of Natural Language Processing, you've learned some cool new stuff: how to process text, how turn text into vectors, and how to model topics from documents. Apply your newly acquired skills to one of the most famous NLP datasets out there: [Yelp](https://www.yelp.com/dataset). As part of the job selection process, some of my friends have been asked to create analysis of this dataset, so I want to empower you to have a head start.  \n",
        "\n",
        "The real dataset is massive (almost 8 gigs uncompressed). The data is sampled for you to something more manageable for the Sprint Challenge. You can analyze the full dataset as a stretch goal or after the sprint challenge. \n",
        "\n",
        "## Challenge Objectives\n",
        "Successfully complete all these objectives to earn full credit. \n",
        "\n",
        "**Successful completion is defined as passing all the unit tests in each objective.**  \n",
        "\n",
        "There are 8 total possible points in this sprint challenge. \n",
        "\n",
        "\n",
        "There are more details on each objective further down in the notebook.*\n",
        "* <a href=\"#p1\">Part 1</a>: Write a function to tokenize the yelp reviews\n",
        "* <a href=\"#p2\">Part 2</a>: Create a vector representation of those tokens\n",
        "* <a href=\"#p3\">Part 3</a>: Use your tokens in a classification model on Yelp rating\n",
        "* <a href=\"#p4\">Part 4</a>: Estimate & Interpret a topic model of the Yelp reviews\n",
        "\n",
        "____\n",
        "\n",
        "# Before you submit your notebook you must first\n",
        "\n",
        "1) Restart your notebook's Kernel\n",
        "\n",
        "2) Run all cells sequentially, from top to bottom, so that cell numbers are sequential numbers (i.e. 1,2,3,4,5...)\n",
        "- Easiest way to do this is to click on the **Cell** tab at the top of your notebook and select **Run All** from the drop down menu. \n",
        "\n",
        "3) **Comment out the cell that generates a pyLDAvis visual in objective 4 (see instructions in that section).** \n",
        "____"
      ]
    },
    {
      "cell_type": "markdown",
      "metadata": {
        "deletable": false,
        "editable": false,
        "nbgrader": {
          "cell_type": "markdown",
          "checksum": "a0fb09b9e122fc2f2a2baae91a22a818",
          "grade": false,
          "grade_id": "cell-e6c3d2173420a581",
          "locked": true,
          "schema_version": 3,
          "solution": false,
          "task": false
        },
        "id": "j-NanFWdzPRa"
      },
      "source": [
        "### Part 0: Import Necessary Packages\n",
        "For this section, you will need to import:\n",
        "- `spacy` \n",
        "- `Pandas`\n",
        "- `Seaborn`\n",
        "- `Matplotlib`\n",
        "- `NearestNeighbors`\n",
        "- `Pipeline` \n",
        "- `TfidfVectorizer`\n",
        "- `KneighborsClassifier`\n",
        "- `GridSearchCV`\n",
        "- `corpora`\n",
        "- `LdaModel`\n",
        "- `gensim`\n",
        "- `re`\n",
        "\n",
        "> **Note: This assignment is optimized to work with these specific packages. You can use import different packages, but note that this may affect how CodeGrade works, and may cause CodeGrade to fail.**"
      ]
    },
    {
      "cell_type": "code",
      "source": [
        "# !python -m spacy download en_core_web_sm"
      ],
      "metadata": {
        "id": "0rNF0B0Nh4mu"
      },
      "execution_count": 3,
      "outputs": []
    },
    {
      "cell_type": "code",
      "source": [
        "!pip install pyLDAvis"
      ],
      "metadata": {
        "colab": {
          "base_uri": "https://localhost:8080/",
          "height": 797
        },
        "id": "Jq-D8lRYs-KQ",
        "outputId": "c1093a55-ffb2-49b8-a9f0-bc9825f2abdb"
      },
      "execution_count": 4,
      "outputs": [
        {
          "output_type": "stream",
          "name": "stdout",
          "text": [
            "Looking in indexes: https://pypi.org/simple, https://us-python.pkg.dev/colab-wheels/public/simple/\n",
            "Collecting pyLDAvis\n",
            "  Downloading pyLDAvis-3.4.1-py3-none-any.whl (2.6 MB)\n",
            "\u001b[2K     \u001b[90m━━━━━━━━━━━━━━━━━━━━━━━━━━━━━━━━━━━━━━━━\u001b[0m \u001b[32m2.6/2.6 MB\u001b[0m \u001b[31m41.4 MB/s\u001b[0m eta \u001b[36m0:00:00\u001b[0m\n",
            "\u001b[?25hCollecting numpy>=1.24.2 (from pyLDAvis)\n",
            "  Downloading numpy-1.24.3-cp310-cp310-manylinux_2_17_x86_64.manylinux2014_x86_64.whl (17.3 MB)\n",
            "\u001b[2K     \u001b[90m━━━━━━━━━━━━━━━━━━━━━━━━━━━━━━━━━━━━━━━━\u001b[0m \u001b[32m17.3/17.3 MB\u001b[0m \u001b[31m68.0 MB/s\u001b[0m eta \u001b[36m0:00:00\u001b[0m\n",
            "\u001b[?25hRequirement already satisfied: scipy in /usr/local/lib/python3.10/dist-packages (from pyLDAvis) (1.10.1)\n",
            "Collecting pandas>=2.0.0 (from pyLDAvis)\n",
            "  Downloading pandas-2.0.2-cp310-cp310-manylinux_2_17_x86_64.manylinux2014_x86_64.whl (12.3 MB)\n",
            "\u001b[2K     \u001b[90m━━━━━━━━━━━━━━━━━━━━━━━━━━━━━━━━━━━━━━━━\u001b[0m \u001b[32m12.3/12.3 MB\u001b[0m \u001b[31m79.5 MB/s\u001b[0m eta \u001b[36m0:00:00\u001b[0m\n",
            "\u001b[?25hRequirement already satisfied: joblib>=1.2.0 in /usr/local/lib/python3.10/dist-packages (from pyLDAvis) (1.2.0)\n",
            "Requirement already satisfied: jinja2 in /usr/local/lib/python3.10/dist-packages (from pyLDAvis) (3.1.2)\n",
            "Requirement already satisfied: numexpr in /usr/local/lib/python3.10/dist-packages (from pyLDAvis) (2.8.4)\n",
            "Collecting funcy (from pyLDAvis)\n",
            "  Downloading funcy-2.0-py2.py3-none-any.whl (30 kB)\n",
            "Requirement already satisfied: scikit-learn>=1.0.0 in /usr/local/lib/python3.10/dist-packages (from pyLDAvis) (1.2.2)\n",
            "Requirement already satisfied: gensim in /usr/local/lib/python3.10/dist-packages (from pyLDAvis) (4.3.1)\n",
            "Requirement already satisfied: setuptools in /usr/local/lib/python3.10/dist-packages (from pyLDAvis) (67.7.2)\n",
            "Requirement already satisfied: python-dateutil>=2.8.2 in /usr/local/lib/python3.10/dist-packages (from pandas>=2.0.0->pyLDAvis) (2.8.2)\n",
            "Requirement already satisfied: pytz>=2020.1 in /usr/local/lib/python3.10/dist-packages (from pandas>=2.0.0->pyLDAvis) (2022.7.1)\n",
            "Requirement already satisfied: tzdata>=2022.1 in /usr/local/lib/python3.10/dist-packages (from pandas>=2.0.0->pyLDAvis) (2023.3)\n",
            "Requirement already satisfied: threadpoolctl>=2.0.0 in /usr/local/lib/python3.10/dist-packages (from scikit-learn>=1.0.0->pyLDAvis) (3.1.0)\n",
            "Requirement already satisfied: smart-open>=1.8.1 in /usr/local/lib/python3.10/dist-packages (from gensim->pyLDAvis) (6.3.0)\n",
            "Requirement already satisfied: MarkupSafe>=2.0 in /usr/local/lib/python3.10/dist-packages (from jinja2->pyLDAvis) (2.1.2)\n",
            "Requirement already satisfied: six>=1.5 in /usr/local/lib/python3.10/dist-packages (from python-dateutil>=2.8.2->pandas>=2.0.0->pyLDAvis) (1.16.0)\n",
            "Installing collected packages: funcy, numpy, pandas, pyLDAvis\n",
            "  Attempting uninstall: numpy\n",
            "    Found existing installation: numpy 1.22.4\n",
            "    Uninstalling numpy-1.22.4:\n",
            "      Successfully uninstalled numpy-1.22.4\n",
            "  Attempting uninstall: pandas\n",
            "    Found existing installation: pandas 1.5.3\n",
            "    Uninstalling pandas-1.5.3:\n",
            "      Successfully uninstalled pandas-1.5.3\n",
            "\u001b[31mERROR: pip's dependency resolver does not currently take into account all the packages that are installed. This behaviour is the source of the following dependency conflicts.\n",
            "google-colab 1.0.0 requires pandas==1.5.3, but you have pandas 2.0.2 which is incompatible.\n",
            "numba 0.56.4 requires numpy<1.24,>=1.18, but you have numpy 1.24.3 which is incompatible.\n",
            "tensorflow 2.12.0 requires numpy<1.24,>=1.22, but you have numpy 1.24.3 which is incompatible.\u001b[0m\u001b[31m\n",
            "\u001b[0mSuccessfully installed funcy-2.0 numpy-1.24.3 pandas-2.0.2 pyLDAvis-3.4.1\n"
          ]
        },
        {
          "output_type": "display_data",
          "data": {
            "application/vnd.colab-display-data+json": {
              "pip_warning": {
                "packages": [
                  "numpy",
                  "pandas"
                ]
              }
            }
          },
          "metadata": {}
        }
      ]
    },
    {
      "cell_type": "code",
      "execution_count": 5,
      "metadata": {
        "deletable": false,
        "nbgrader": {
          "cell_type": "code",
          "checksum": "8d3d0719eecd5609256125d84cc4218a",
          "grade": false,
          "grade_id": "cell-b29df5c5bfb8c0d8",
          "locked": false,
          "schema_version": 3,
          "solution": true,
          "task": false
        },
        "id": "hfwsE10azPRb"
      },
      "outputs": [],
      "source": [
        "# YOUR CODE HERE\n",
        "import pandas as pd\n",
        "import seaborn as sns\n",
        "import matplotlib.pyplot as plt\n",
        "import re\n",
        "\n",
        "\n",
        "from sklearn.neighbors import NearestNeighbors, KNeighborsClassifier\n",
        "from sklearn.pipeline import Pipeline\n",
        "from sklearn.feature_extraction.text import CountVectorizer, TfidfVectorizer\n",
        "from sklearn.model_selection import GridSearchCV\n",
        "from sklearn.ensemble import GradientBoostingClassifier, RandomForestClassifier\n",
        "\n",
        "import gensim\n",
        "import gensim.corpora as corpora\n",
        "from gensim.models import LdaModel\n",
        "from gensim.models import CoherenceModel\n",
        "\n",
        "import pyLDAvis\n",
        "import pyLDAvis.gensim \n",
        "%matplotlib inline\n",
        "\n",
        "import warnings\n",
        "warnings.filterwarnings(\"ignore\")"
      ]
    },
    {
      "cell_type": "code",
      "execution_count": 6,
      "metadata": {
        "deletable": false,
        "editable": false,
        "nbgrader": {
          "cell_type": "code",
          "checksum": "6b8ad4a1ac317df7b82aced26eee406f",
          "grade": true,
          "grade_id": "cell-be1ef923d085ceb5",
          "locked": true,
          "points": 1,
          "schema_version": 3,
          "solution": false,
          "task": false
        },
        "id": "55v-aNCBzPRb"
      },
      "outputs": [],
      "source": [
        "# Visible Testing\n",
        "assert pd.__package__ == 'pandas'\n"
      ]
    },
    {
      "cell_type": "markdown",
      "metadata": {
        "deletable": false,
        "editable": false,
        "nbgrader": {
          "cell_type": "markdown",
          "checksum": "11b700564f5d76c1ec246d8fece821c1",
          "grade": false,
          "grade_id": "cell-c94bee05bece8c59",
          "locked": true,
          "schema_version": 3,
          "solution": false,
          "task": false
        },
        "id": "wqkysABqzPRc"
      },
      "source": [
        "\n",
        "\n",
        "### Part 0: Import Data"
      ]
    },
    {
      "cell_type": "code",
      "execution_count": 7,
      "metadata": {
        "deletable": false,
        "nbgrader": {
          "cell_type": "code",
          "checksum": "150e28699f961709cb59be5e0f8ddbe0",
          "grade": false,
          "grade_id": "cell-395851cd95d17235",
          "locked": false,
          "schema_version": 3,
          "solution": true,
          "task": false
        },
        "colab": {
          "base_uri": "https://localhost:8080/",
          "height": 206
        },
        "id": "xs65IfdYzPRc",
        "outputId": "328e0e2d-3b8a-40bb-ff97-f80b881e515c"
      },
      "outputs": [
        {
          "output_type": "execute_result",
          "data": {
            "text/plain": [
              "              business_id  cool                date  funny  \\\n",
              "0  nDuEqIyRc8YKS1q1fX0CZg     1 2015-03-31 16:50:30      0   \n",
              "1  eMYeEapscbKNqUDCx705hg     0 2015-12-16 05:31:03      0   \n",
              "2  6Q7-wkCPc1KF75jZLOTcMw     1 2010-06-20 19:14:48      1   \n",
              "3  k3zrItO4l9hwfLRwHBDc9w     3 2010-07-13 00:33:45      4   \n",
              "4  6hpfRwGlOzbNv7k5eP9rsQ     1 2018-06-30 02:30:01      0   \n",
              "\n",
              "                review_id  stars  \\\n",
              "0  eZs2tpEJtXPwawvHnHZIgQ      1   \n",
              "1  DoQDWJsNbU0KL1O29l_Xug      4   \n",
              "2  DDOdGU7zh56yQHmUnL1idQ      3   \n",
              "3  LfTMUWnfGFMOfOIyJcwLVA      1   \n",
              "4  zJSUdI7bJ8PNJAg4lnl_Gg      4   \n",
              "\n",
              "                                                text  useful  \\\n",
              "0  BEWARE!!! FAKE, FAKE, FAKE....We also own a sm...      10   \n",
              "1  Came here for lunch Togo. Service was quick. S...       0   \n",
              "2  I've been to Vegas dozens of times and had nev...       2   \n",
              "3  We went here on a night where they closed off ...       5   \n",
              "4  3.5 to 4 stars\\n\\nNot bad for the price, $12.9...       5   \n",
              "\n",
              "                  user_id  \n",
              "0  n1LM36qNg4rqGXIcvVXv8w  \n",
              "1  5CgjjDAic2-FAvCtiHpytA  \n",
              "2  BdV-cf3LScmb8kZ7iiBcMA  \n",
              "3  cZZnBqh4gAEy4CdNvJailQ  \n",
              "4  n9QO4ClYAS7h9fpQwa5bhA  "
            ],
            "text/html": [
              "\n",
              "  <div id=\"df-b00a8db9-dfc8-469b-87cf-c67657d3dfbe\">\n",
              "    <div class=\"colab-df-container\">\n",
              "      <div>\n",
              "<style scoped>\n",
              "    .dataframe tbody tr th:only-of-type {\n",
              "        vertical-align: middle;\n",
              "    }\n",
              "\n",
              "    .dataframe tbody tr th {\n",
              "        vertical-align: top;\n",
              "    }\n",
              "\n",
              "    .dataframe thead th {\n",
              "        text-align: right;\n",
              "    }\n",
              "</style>\n",
              "<table border=\"1\" class=\"dataframe\">\n",
              "  <thead>\n",
              "    <tr style=\"text-align: right;\">\n",
              "      <th></th>\n",
              "      <th>business_id</th>\n",
              "      <th>cool</th>\n",
              "      <th>date</th>\n",
              "      <th>funny</th>\n",
              "      <th>review_id</th>\n",
              "      <th>stars</th>\n",
              "      <th>text</th>\n",
              "      <th>useful</th>\n",
              "      <th>user_id</th>\n",
              "    </tr>\n",
              "  </thead>\n",
              "  <tbody>\n",
              "    <tr>\n",
              "      <th>0</th>\n",
              "      <td>nDuEqIyRc8YKS1q1fX0CZg</td>\n",
              "      <td>1</td>\n",
              "      <td>2015-03-31 16:50:30</td>\n",
              "      <td>0</td>\n",
              "      <td>eZs2tpEJtXPwawvHnHZIgQ</td>\n",
              "      <td>1</td>\n",
              "      <td>BEWARE!!! FAKE, FAKE, FAKE....We also own a sm...</td>\n",
              "      <td>10</td>\n",
              "      <td>n1LM36qNg4rqGXIcvVXv8w</td>\n",
              "    </tr>\n",
              "    <tr>\n",
              "      <th>1</th>\n",
              "      <td>eMYeEapscbKNqUDCx705hg</td>\n",
              "      <td>0</td>\n",
              "      <td>2015-12-16 05:31:03</td>\n",
              "      <td>0</td>\n",
              "      <td>DoQDWJsNbU0KL1O29l_Xug</td>\n",
              "      <td>4</td>\n",
              "      <td>Came here for lunch Togo. Service was quick. S...</td>\n",
              "      <td>0</td>\n",
              "      <td>5CgjjDAic2-FAvCtiHpytA</td>\n",
              "    </tr>\n",
              "    <tr>\n",
              "      <th>2</th>\n",
              "      <td>6Q7-wkCPc1KF75jZLOTcMw</td>\n",
              "      <td>1</td>\n",
              "      <td>2010-06-20 19:14:48</td>\n",
              "      <td>1</td>\n",
              "      <td>DDOdGU7zh56yQHmUnL1idQ</td>\n",
              "      <td>3</td>\n",
              "      <td>I've been to Vegas dozens of times and had nev...</td>\n",
              "      <td>2</td>\n",
              "      <td>BdV-cf3LScmb8kZ7iiBcMA</td>\n",
              "    </tr>\n",
              "    <tr>\n",
              "      <th>3</th>\n",
              "      <td>k3zrItO4l9hwfLRwHBDc9w</td>\n",
              "      <td>3</td>\n",
              "      <td>2010-07-13 00:33:45</td>\n",
              "      <td>4</td>\n",
              "      <td>LfTMUWnfGFMOfOIyJcwLVA</td>\n",
              "      <td>1</td>\n",
              "      <td>We went here on a night where they closed off ...</td>\n",
              "      <td>5</td>\n",
              "      <td>cZZnBqh4gAEy4CdNvJailQ</td>\n",
              "    </tr>\n",
              "    <tr>\n",
              "      <th>4</th>\n",
              "      <td>6hpfRwGlOzbNv7k5eP9rsQ</td>\n",
              "      <td>1</td>\n",
              "      <td>2018-06-30 02:30:01</td>\n",
              "      <td>0</td>\n",
              "      <td>zJSUdI7bJ8PNJAg4lnl_Gg</td>\n",
              "      <td>4</td>\n",
              "      <td>3.5 to 4 stars\\n\\nNot bad for the price, $12.9...</td>\n",
              "      <td>5</td>\n",
              "      <td>n9QO4ClYAS7h9fpQwa5bhA</td>\n",
              "    </tr>\n",
              "  </tbody>\n",
              "</table>\n",
              "</div>\n",
              "      <button class=\"colab-df-convert\" onclick=\"convertToInteractive('df-b00a8db9-dfc8-469b-87cf-c67657d3dfbe')\"\n",
              "              title=\"Convert this dataframe to an interactive table.\"\n",
              "              style=\"display:none;\">\n",
              "        \n",
              "  <svg xmlns=\"http://www.w3.org/2000/svg\" height=\"24px\"viewBox=\"0 0 24 24\"\n",
              "       width=\"24px\">\n",
              "    <path d=\"M0 0h24v24H0V0z\" fill=\"none\"/>\n",
              "    <path d=\"M18.56 5.44l.94 2.06.94-2.06 2.06-.94-2.06-.94-.94-2.06-.94 2.06-2.06.94zm-11 1L8.5 8.5l.94-2.06 2.06-.94-2.06-.94L8.5 2.5l-.94 2.06-2.06.94zm10 10l.94 2.06.94-2.06 2.06-.94-2.06-.94-.94-2.06-.94 2.06-2.06.94z\"/><path d=\"M17.41 7.96l-1.37-1.37c-.4-.4-.92-.59-1.43-.59-.52 0-1.04.2-1.43.59L10.3 9.45l-7.72 7.72c-.78.78-.78 2.05 0 2.83L4 21.41c.39.39.9.59 1.41.59.51 0 1.02-.2 1.41-.59l7.78-7.78 2.81-2.81c.8-.78.8-2.07 0-2.86zM5.41 20L4 18.59l7.72-7.72 1.47 1.35L5.41 20z\"/>\n",
              "  </svg>\n",
              "      </button>\n",
              "      \n",
              "  <style>\n",
              "    .colab-df-container {\n",
              "      display:flex;\n",
              "      flex-wrap:wrap;\n",
              "      gap: 12px;\n",
              "    }\n",
              "\n",
              "    .colab-df-convert {\n",
              "      background-color: #E8F0FE;\n",
              "      border: none;\n",
              "      border-radius: 50%;\n",
              "      cursor: pointer;\n",
              "      display: none;\n",
              "      fill: #1967D2;\n",
              "      height: 32px;\n",
              "      padding: 0 0 0 0;\n",
              "      width: 32px;\n",
              "    }\n",
              "\n",
              "    .colab-df-convert:hover {\n",
              "      background-color: #E2EBFA;\n",
              "      box-shadow: 0px 1px 2px rgba(60, 64, 67, 0.3), 0px 1px 3px 1px rgba(60, 64, 67, 0.15);\n",
              "      fill: #174EA6;\n",
              "    }\n",
              "\n",
              "    [theme=dark] .colab-df-convert {\n",
              "      background-color: #3B4455;\n",
              "      fill: #D2E3FC;\n",
              "    }\n",
              "\n",
              "    [theme=dark] .colab-df-convert:hover {\n",
              "      background-color: #434B5C;\n",
              "      box-shadow: 0px 1px 3px 1px rgba(0, 0, 0, 0.15);\n",
              "      filter: drop-shadow(0px 1px 2px rgba(0, 0, 0, 0.3));\n",
              "      fill: #FFFFFF;\n",
              "    }\n",
              "  </style>\n",
              "\n",
              "      <script>\n",
              "        const buttonEl =\n",
              "          document.querySelector('#df-b00a8db9-dfc8-469b-87cf-c67657d3dfbe button.colab-df-convert');\n",
              "        buttonEl.style.display =\n",
              "          google.colab.kernel.accessAllowed ? 'block' : 'none';\n",
              "\n",
              "        async function convertToInteractive(key) {\n",
              "          const element = document.querySelector('#df-b00a8db9-dfc8-469b-87cf-c67657d3dfbe');\n",
              "          const dataTable =\n",
              "            await google.colab.kernel.invokeFunction('convertToInteractive',\n",
              "                                                     [key], {});\n",
              "          if (!dataTable) return;\n",
              "\n",
              "          const docLinkHtml = 'Like what you see? Visit the ' +\n",
              "            '<a target=\"_blank\" href=https://colab.research.google.com/notebooks/data_table.ipynb>data table notebook</a>'\n",
              "            + ' to learn more about interactive tables.';\n",
              "          element.innerHTML = '';\n",
              "          dataTable['output_type'] = 'display_data';\n",
              "          await google.colab.output.renderOutput(dataTable, element);\n",
              "          const docLink = document.createElement('div');\n",
              "          docLink.innerHTML = docLinkHtml;\n",
              "          element.appendChild(docLink);\n",
              "        }\n",
              "      </script>\n",
              "    </div>\n",
              "  </div>\n",
              "  "
            ]
          },
          "metadata": {},
          "execution_count": 7
        }
      ],
      "source": [
        "\n",
        "\n",
        "# Load reviews from URL\n",
        "data_url = 'https://raw.githubusercontent.com/bloominstituteoftechnology/data-science-practice-datasets/main/unit_4/unit1_nlp/review_sample.json'\n",
        "\n",
        "# Import data into a DataFrame named df\n",
        "# YOUR CODE HERE\n",
        "df = pd.read_json(data_url, lines=True)\n",
        "df.head()"
      ]
    },
    {
      "cell_type": "code",
      "source": [
        "df.shape"
      ],
      "metadata": {
        "id": "MEeGCvovHVsm",
        "outputId": "a7aac096-f349-46da-96a3-b6b63a17bf72",
        "colab": {
          "base_uri": "https://localhost:8080/"
        }
      },
      "execution_count": 8,
      "outputs": [
        {
          "output_type": "execute_result",
          "data": {
            "text/plain": [
              "(10000, 9)"
            ]
          },
          "metadata": {},
          "execution_count": 8
        }
      ]
    },
    {
      "cell_type": "code",
      "source": [
        "df['text'][1]"
      ],
      "metadata": {
        "id": "ZmOlqcDeOfGP",
        "outputId": "27ea8b5b-1291-4bcf-a502-96a64eee5fef",
        "colab": {
          "base_uri": "https://localhost:8080/",
          "height": 35
        }
      },
      "execution_count": 9,
      "outputs": [
        {
          "output_type": "execute_result",
          "data": {
            "text/plain": [
              "'Came here for lunch Togo. Service was quick. Staff was friendly. No complaints here. Sweet tea is good. Parking can be a pain sometimes.'"
            ],
            "application/vnd.google.colaboratory.intrinsic+json": {
              "type": "string"
            }
          },
          "metadata": {},
          "execution_count": 9
        }
      ]
    },
    {
      "cell_type": "code",
      "execution_count": 10,
      "metadata": {
        "deletable": false,
        "editable": false,
        "nbgrader": {
          "cell_type": "code",
          "checksum": "356579363f311da83f4ef7abaf3c9212",
          "grade": true,
          "grade_id": "cell-cb5006475e42b8f9",
          "locked": true,
          "points": 1,
          "schema_version": 3,
          "solution": false,
          "task": false
        },
        "id": "9z45W1NlzPRc"
      },
      "outputs": [],
      "source": [
        "# Visible Testing\n",
        "assert isinstance(df, pd.DataFrame), 'df is not a DataFrame. Did you import the data into df?'\n",
        "assert df.shape[0] == 10000, 'DataFrame df has the wrong number of rows.'"
      ]
    },
    {
      "cell_type": "markdown",
      "metadata": {
        "deletable": false,
        "editable": false,
        "nbgrader": {
          "cell_type": "markdown",
          "checksum": "aedd47e33e28a74846b51e236deef316",
          "grade": false,
          "grade_id": "cell-27dc6b438d2f2722",
          "locked": true,
          "schema_version": 3,
          "solution": false,
          "task": false
        },
        "id": "X9eaQ6uozPRc"
      },
      "source": [
        "## Part 1: Tokenize Function\n",
        "<a id=\"#p1\"></a>\n",
        "\n",
        "Complete the function `tokenize`. Your function should\n",
        "- Accept one document at a time\n",
        "- Return a list of tokens\n",
        "\n",
        "You are free to use any method you have learned this week.\n",
        "\n",
        "**TO PASS CODEGRADE RUNTIME:**\n",
        "- Do not run your tokenize function more than one time in your notebook! It is not needed until Part 4!"
      ]
    },
    {
      "cell_type": "code",
      "execution_count": 7,
      "metadata": {
        "id": "lrS37stqzPRd"
      },
      "outputs": [],
      "source": [
        "# Optional: Consider using spaCy in your function. The spaCy library can be imported by running this cell.\n",
        "# A pre-trained model (en_core_web_sm) has been made available to you in the CodeGrade container.\n",
        "# If you DON'T need use the en_core_web_sm model, you can comment it out below.\n",
        "\n",
        "# nlp = spacy.load('en_core_web_sm')"
      ]
    },
    {
      "cell_type": "code",
      "execution_count": 11,
      "metadata": {
        "deletable": false,
        "nbgrader": {
          "cell_type": "code",
          "checksum": "4837ed2a1cc13057ba40203859d46ff6",
          "grade": false,
          "grade_id": "cell-3d570d5a1cd6cb64",
          "locked": false,
          "schema_version": 3,
          "solution": true,
          "task": false
        },
        "id": "xCFwDOaqzPRd"
      },
      "outputs": [],
      "source": [
        "def tokenize(doc):\n",
        "# YOUR CODE HERE\n",
        "   # order of operations - apply the expression from top to bottom\n",
        "    email_regex = \"From: \\S*@\\S*\\s?\"\n",
        "    non_alpha = '[^a-zA-Z]'\n",
        "    multi_white_spaces = \"[ ]{2,}\"\n",
        "    punctuation = r'[^\\w\\s]'\n",
        "\n",
        "    text = re.sub(email_regex, \"\", doc)\n",
        "    text = re.sub(non_alpha, ' ', doc)\n",
        "    text = re.sub(multi_white_spaces, \" \", doc)\n",
        "    text = re.sub(punctuation, '', doc)\n",
        "    # apply case normalization \n",
        "    tokens = [token.lower() for token in text.split() if len(token) > 2]\n",
        "    return tokens"
      ]
    },
    {
      "cell_type": "code",
      "execution_count": 12,
      "metadata": {
        "deletable": false,
        "editable": false,
        "nbgrader": {
          "cell_type": "code",
          "checksum": "2181ca9d36070260b1f75dcfd9e58965",
          "grade": true,
          "grade_id": "cell-02da164f6fbe730a",
          "locked": true,
          "points": 1,
          "schema_version": 3,
          "solution": false,
          "task": false
        },
        "id": "q6QQp4sqzPRd"
      },
      "outputs": [],
      "source": [
        "'''Testing'''\n",
        "assert isinstance(tokenize(df.sample(n=1)[\"text\"].iloc[0]), list), \"Make sure your tokenizer function accepts a single document and returns a list of tokens!\""
      ]
    },
    {
      "cell_type": "markdown",
      "metadata": {
        "deletable": false,
        "editable": false,
        "nbgrader": {
          "cell_type": "markdown",
          "checksum": "d4137c3ea2fa84821d1dbf1b28dde6dd",
          "grade": false,
          "grade_id": "cell-ef13337bc7694c52",
          "locked": true,
          "schema_version": 3,
          "solution": false,
          "task": false
        },
        "id": "IE-OIOsgzPRd"
      },
      "source": [
        "## Part 2: Vector Representation\n",
        "<a id=\"#p2\"></a>\n",
        "1. Create a vector representation of the reviews (i.e. create a doc-term matrix).\n",
        "    * Name that doc-term matrix `dtm`"
      ]
    },
    {
      "cell_type": "code",
      "execution_count": 13,
      "metadata": {
        "deletable": false,
        "nbgrader": {
          "cell_type": "code",
          "checksum": "fefca7db0abb1474d316d6aa24e032f8",
          "grade": false,
          "grade_id": "cell-0e96491cb529202c",
          "locked": false,
          "schema_version": 3,
          "solution": true,
          "task": false
        },
        "colab": {
          "base_uri": "https://localhost:8080/",
          "height": 236
        },
        "id": "UvYo9X6nzPRd",
        "outputId": "89d067f2-c288-4619-c63b-0f38715b92a4"
      },
      "outputs": [
        {
          "output_type": "execute_result",
          "data": {
            "text/plain": [
              "    0    1         2    3    4         5         6         7    8         9   \\\n",
              "0  0.0  0.0  0.000000  0.0  0.0  0.000000  0.000000  0.000000  0.0  0.000000   \n",
              "1  0.0  0.0  0.000000  0.0  0.0  0.000000  0.000000  0.000000  0.0  0.000000   \n",
              "2  0.0  0.0  0.151095  0.0  0.0  0.000000  0.000000  0.000000  0.0  0.000000   \n",
              "3  0.0  0.0  0.000000  0.0  0.0  0.000000  0.000000  0.360664  0.0  0.000000   \n",
              "4  0.0  0.0  0.000000  0.0  0.0  0.258898  0.517596  0.000000  0.0  0.260941   \n",
              "\n",
              "   ...        90        91        92   93   94   95   96        97   98   99  \n",
              "0  ...  0.000000  0.000000  0.437965  0.0  0.0  0.0  0.0  0.000000  0.0  0.0  \n",
              "1  ...  0.000000  0.000000  0.000000  0.0  0.0  0.0  0.0  0.000000  0.0  0.0  \n",
              "2  ...  0.118395  0.296108  0.000000  0.0  0.0  0.0  0.0  0.124692  0.0  0.0  \n",
              "3  ...  0.000000  0.000000  0.000000  0.0  0.0  0.0  0.0  0.381265  0.0  0.0  \n",
              "4  ...  0.000000  0.000000  0.000000  0.0  0.0  0.0  0.0  0.000000  0.0  0.0  \n",
              "\n",
              "[5 rows x 100 columns]"
            ],
            "text/html": [
              "\n",
              "  <div id=\"df-69024663-8c80-4f57-ad77-e60880433215\">\n",
              "    <div class=\"colab-df-container\">\n",
              "      <div>\n",
              "<style scoped>\n",
              "    .dataframe tbody tr th:only-of-type {\n",
              "        vertical-align: middle;\n",
              "    }\n",
              "\n",
              "    .dataframe tbody tr th {\n",
              "        vertical-align: top;\n",
              "    }\n",
              "\n",
              "    .dataframe thead th {\n",
              "        text-align: right;\n",
              "    }\n",
              "</style>\n",
              "<table border=\"1\" class=\"dataframe\">\n",
              "  <thead>\n",
              "    <tr style=\"text-align: right;\">\n",
              "      <th></th>\n",
              "      <th>0</th>\n",
              "      <th>1</th>\n",
              "      <th>2</th>\n",
              "      <th>3</th>\n",
              "      <th>4</th>\n",
              "      <th>5</th>\n",
              "      <th>6</th>\n",
              "      <th>7</th>\n",
              "      <th>8</th>\n",
              "      <th>9</th>\n",
              "      <th>...</th>\n",
              "      <th>90</th>\n",
              "      <th>91</th>\n",
              "      <th>92</th>\n",
              "      <th>93</th>\n",
              "      <th>94</th>\n",
              "      <th>95</th>\n",
              "      <th>96</th>\n",
              "      <th>97</th>\n",
              "      <th>98</th>\n",
              "      <th>99</th>\n",
              "    </tr>\n",
              "  </thead>\n",
              "  <tbody>\n",
              "    <tr>\n",
              "      <th>0</th>\n",
              "      <td>0.0</td>\n",
              "      <td>0.0</td>\n",
              "      <td>0.000000</td>\n",
              "      <td>0.0</td>\n",
              "      <td>0.0</td>\n",
              "      <td>0.000000</td>\n",
              "      <td>0.000000</td>\n",
              "      <td>0.000000</td>\n",
              "      <td>0.0</td>\n",
              "      <td>0.000000</td>\n",
              "      <td>...</td>\n",
              "      <td>0.000000</td>\n",
              "      <td>0.000000</td>\n",
              "      <td>0.437965</td>\n",
              "      <td>0.0</td>\n",
              "      <td>0.0</td>\n",
              "      <td>0.0</td>\n",
              "      <td>0.0</td>\n",
              "      <td>0.000000</td>\n",
              "      <td>0.0</td>\n",
              "      <td>0.0</td>\n",
              "    </tr>\n",
              "    <tr>\n",
              "      <th>1</th>\n",
              "      <td>0.0</td>\n",
              "      <td>0.0</td>\n",
              "      <td>0.000000</td>\n",
              "      <td>0.0</td>\n",
              "      <td>0.0</td>\n",
              "      <td>0.000000</td>\n",
              "      <td>0.000000</td>\n",
              "      <td>0.000000</td>\n",
              "      <td>0.0</td>\n",
              "      <td>0.000000</td>\n",
              "      <td>...</td>\n",
              "      <td>0.000000</td>\n",
              "      <td>0.000000</td>\n",
              "      <td>0.000000</td>\n",
              "      <td>0.0</td>\n",
              "      <td>0.0</td>\n",
              "      <td>0.0</td>\n",
              "      <td>0.0</td>\n",
              "      <td>0.000000</td>\n",
              "      <td>0.0</td>\n",
              "      <td>0.0</td>\n",
              "    </tr>\n",
              "    <tr>\n",
              "      <th>2</th>\n",
              "      <td>0.0</td>\n",
              "      <td>0.0</td>\n",
              "      <td>0.151095</td>\n",
              "      <td>0.0</td>\n",
              "      <td>0.0</td>\n",
              "      <td>0.000000</td>\n",
              "      <td>0.000000</td>\n",
              "      <td>0.000000</td>\n",
              "      <td>0.0</td>\n",
              "      <td>0.000000</td>\n",
              "      <td>...</td>\n",
              "      <td>0.118395</td>\n",
              "      <td>0.296108</td>\n",
              "      <td>0.000000</td>\n",
              "      <td>0.0</td>\n",
              "      <td>0.0</td>\n",
              "      <td>0.0</td>\n",
              "      <td>0.0</td>\n",
              "      <td>0.124692</td>\n",
              "      <td>0.0</td>\n",
              "      <td>0.0</td>\n",
              "    </tr>\n",
              "    <tr>\n",
              "      <th>3</th>\n",
              "      <td>0.0</td>\n",
              "      <td>0.0</td>\n",
              "      <td>0.000000</td>\n",
              "      <td>0.0</td>\n",
              "      <td>0.0</td>\n",
              "      <td>0.000000</td>\n",
              "      <td>0.000000</td>\n",
              "      <td>0.360664</td>\n",
              "      <td>0.0</td>\n",
              "      <td>0.000000</td>\n",
              "      <td>...</td>\n",
              "      <td>0.000000</td>\n",
              "      <td>0.000000</td>\n",
              "      <td>0.000000</td>\n",
              "      <td>0.0</td>\n",
              "      <td>0.0</td>\n",
              "      <td>0.0</td>\n",
              "      <td>0.0</td>\n",
              "      <td>0.381265</td>\n",
              "      <td>0.0</td>\n",
              "      <td>0.0</td>\n",
              "    </tr>\n",
              "    <tr>\n",
              "      <th>4</th>\n",
              "      <td>0.0</td>\n",
              "      <td>0.0</td>\n",
              "      <td>0.000000</td>\n",
              "      <td>0.0</td>\n",
              "      <td>0.0</td>\n",
              "      <td>0.258898</td>\n",
              "      <td>0.517596</td>\n",
              "      <td>0.000000</td>\n",
              "      <td>0.0</td>\n",
              "      <td>0.260941</td>\n",
              "      <td>...</td>\n",
              "      <td>0.000000</td>\n",
              "      <td>0.000000</td>\n",
              "      <td>0.000000</td>\n",
              "      <td>0.0</td>\n",
              "      <td>0.0</td>\n",
              "      <td>0.0</td>\n",
              "      <td>0.0</td>\n",
              "      <td>0.000000</td>\n",
              "      <td>0.0</td>\n",
              "      <td>0.0</td>\n",
              "    </tr>\n",
              "  </tbody>\n",
              "</table>\n",
              "<p>5 rows × 100 columns</p>\n",
              "</div>\n",
              "      <button class=\"colab-df-convert\" onclick=\"convertToInteractive('df-69024663-8c80-4f57-ad77-e60880433215')\"\n",
              "              title=\"Convert this dataframe to an interactive table.\"\n",
              "              style=\"display:none;\">\n",
              "        \n",
              "  <svg xmlns=\"http://www.w3.org/2000/svg\" height=\"24px\"viewBox=\"0 0 24 24\"\n",
              "       width=\"24px\">\n",
              "    <path d=\"M0 0h24v24H0V0z\" fill=\"none\"/>\n",
              "    <path d=\"M18.56 5.44l.94 2.06.94-2.06 2.06-.94-2.06-.94-.94-2.06-.94 2.06-2.06.94zm-11 1L8.5 8.5l.94-2.06 2.06-.94-2.06-.94L8.5 2.5l-.94 2.06-2.06.94zm10 10l.94 2.06.94-2.06 2.06-.94-2.06-.94-.94-2.06-.94 2.06-2.06.94z\"/><path d=\"M17.41 7.96l-1.37-1.37c-.4-.4-.92-.59-1.43-.59-.52 0-1.04.2-1.43.59L10.3 9.45l-7.72 7.72c-.78.78-.78 2.05 0 2.83L4 21.41c.39.39.9.59 1.41.59.51 0 1.02-.2 1.41-.59l7.78-7.78 2.81-2.81c.8-.78.8-2.07 0-2.86zM5.41 20L4 18.59l7.72-7.72 1.47 1.35L5.41 20z\"/>\n",
              "  </svg>\n",
              "      </button>\n",
              "      \n",
              "  <style>\n",
              "    .colab-df-container {\n",
              "      display:flex;\n",
              "      flex-wrap:wrap;\n",
              "      gap: 12px;\n",
              "    }\n",
              "\n",
              "    .colab-df-convert {\n",
              "      background-color: #E8F0FE;\n",
              "      border: none;\n",
              "      border-radius: 50%;\n",
              "      cursor: pointer;\n",
              "      display: none;\n",
              "      fill: #1967D2;\n",
              "      height: 32px;\n",
              "      padding: 0 0 0 0;\n",
              "      width: 32px;\n",
              "    }\n",
              "\n",
              "    .colab-df-convert:hover {\n",
              "      background-color: #E2EBFA;\n",
              "      box-shadow: 0px 1px 2px rgba(60, 64, 67, 0.3), 0px 1px 3px 1px rgba(60, 64, 67, 0.15);\n",
              "      fill: #174EA6;\n",
              "    }\n",
              "\n",
              "    [theme=dark] .colab-df-convert {\n",
              "      background-color: #3B4455;\n",
              "      fill: #D2E3FC;\n",
              "    }\n",
              "\n",
              "    [theme=dark] .colab-df-convert:hover {\n",
              "      background-color: #434B5C;\n",
              "      box-shadow: 0px 1px 3px 1px rgba(0, 0, 0, 0.15);\n",
              "      filter: drop-shadow(0px 1px 2px rgba(0, 0, 0, 0.3));\n",
              "      fill: #FFFFFF;\n",
              "    }\n",
              "  </style>\n",
              "\n",
              "      <script>\n",
              "        const buttonEl =\n",
              "          document.querySelector('#df-69024663-8c80-4f57-ad77-e60880433215 button.colab-df-convert');\n",
              "        buttonEl.style.display =\n",
              "          google.colab.kernel.accessAllowed ? 'block' : 'none';\n",
              "\n",
              "        async function convertToInteractive(key) {\n",
              "          const element = document.querySelector('#df-69024663-8c80-4f57-ad77-e60880433215');\n",
              "          const dataTable =\n",
              "            await google.colab.kernel.invokeFunction('convertToInteractive',\n",
              "                                                     [key], {});\n",
              "          if (!dataTable) return;\n",
              "\n",
              "          const docLinkHtml = 'Like what you see? Visit the ' +\n",
              "            '<a target=\"_blank\" href=https://colab.research.google.com/notebooks/data_table.ipynb>data table notebook</a>'\n",
              "            + ' to learn more about interactive tables.';\n",
              "          element.innerHTML = '';\n",
              "          dataTable['output_type'] = 'display_data';\n",
              "          await google.colab.output.renderOutput(dataTable, element);\n",
              "          const docLink = document.createElement('div');\n",
              "          docLink.innerHTML = docLinkHtml;\n",
              "          element.appendChild(docLink);\n",
              "        }\n",
              "      </script>\n",
              "    </div>\n",
              "  </div>\n",
              "  "
            ]
          },
          "metadata": {},
          "execution_count": 13
        }
      ],
      "source": [
        "from numpy.lib.function_base import vectorize\n",
        "# %%time\n",
        "# YOUR CODE HERE\n",
        "vect = TfidfVectorizer(stop_words='english', max_features=100)\n",
        "dtm = vect.fit_transform(df['text'])\n",
        "dtm = pd.DataFrame(dtm.todense())\n",
        "\n",
        "# View the feature matrix as a DataFrame\n",
        "dtm.head()"
      ]
    },
    {
      "cell_type": "markdown",
      "metadata": {
        "deletable": false,
        "editable": false,
        "nbgrader": {
          "cell_type": "markdown",
          "checksum": "86048b7ea6cb011227aefa5a8f7a9e65",
          "grade": false,
          "grade_id": "cell-33c058ea193687c3",
          "locked": true,
          "schema_version": 3,
          "solution": false,
          "task": false
        },
        "id": "xUBq3jkYzPRe"
      },
      "source": [
        "\n",
        "2. Write a fake review. Assign the text of the review to an object called `fake_review`. \n",
        "3. Query the fake review for the 10 most similar reviews, print the text of the reviews. \n",
        "    - Given the size of the dataset, use `NearestNeighbors` model for this. Name the model `nn`."
      ]
    },
    {
      "cell_type": "code",
      "execution_count": 14,
      "metadata": {
        "deletable": false,
        "nbgrader": {
          "cell_type": "code",
          "checksum": "f6aa466983420c836879d744ffa6c9a8",
          "grade": false,
          "grade_id": "cell-3d5bc610a8ec6b24",
          "locked": false,
          "schema_version": 3,
          "solution": true,
          "task": false
        },
        "colab": {
          "base_uri": "https://localhost:8080/",
          "height": 75
        },
        "id": "L6vzzXsbzPRe",
        "outputId": "d8ec396c-93ca-481b-f90d-9e1635572c0d"
      },
      "outputs": [
        {
          "output_type": "execute_result",
          "data": {
            "text/plain": [
              "NearestNeighbors(n_neighbors=10)"
            ],
            "text/html": [
              "<style>#sk-container-id-1 {color: black;background-color: white;}#sk-container-id-1 pre{padding: 0;}#sk-container-id-1 div.sk-toggleable {background-color: white;}#sk-container-id-1 label.sk-toggleable__label {cursor: pointer;display: block;width: 100%;margin-bottom: 0;padding: 0.3em;box-sizing: border-box;text-align: center;}#sk-container-id-1 label.sk-toggleable__label-arrow:before {content: \"▸\";float: left;margin-right: 0.25em;color: #696969;}#sk-container-id-1 label.sk-toggleable__label-arrow:hover:before {color: black;}#sk-container-id-1 div.sk-estimator:hover label.sk-toggleable__label-arrow:before {color: black;}#sk-container-id-1 div.sk-toggleable__content {max-height: 0;max-width: 0;overflow: hidden;text-align: left;background-color: #f0f8ff;}#sk-container-id-1 div.sk-toggleable__content pre {margin: 0.2em;color: black;border-radius: 0.25em;background-color: #f0f8ff;}#sk-container-id-1 input.sk-toggleable__control:checked~div.sk-toggleable__content {max-height: 200px;max-width: 100%;overflow: auto;}#sk-container-id-1 input.sk-toggleable__control:checked~label.sk-toggleable__label-arrow:before {content: \"▾\";}#sk-container-id-1 div.sk-estimator input.sk-toggleable__control:checked~label.sk-toggleable__label {background-color: #d4ebff;}#sk-container-id-1 div.sk-label input.sk-toggleable__control:checked~label.sk-toggleable__label {background-color: #d4ebff;}#sk-container-id-1 input.sk-hidden--visually {border: 0;clip: rect(1px 1px 1px 1px);clip: rect(1px, 1px, 1px, 1px);height: 1px;margin: -1px;overflow: hidden;padding: 0;position: absolute;width: 1px;}#sk-container-id-1 div.sk-estimator {font-family: monospace;background-color: #f0f8ff;border: 1px dotted black;border-radius: 0.25em;box-sizing: border-box;margin-bottom: 0.5em;}#sk-container-id-1 div.sk-estimator:hover {background-color: #d4ebff;}#sk-container-id-1 div.sk-parallel-item::after {content: \"\";width: 100%;border-bottom: 1px solid gray;flex-grow: 1;}#sk-container-id-1 div.sk-label:hover label.sk-toggleable__label {background-color: #d4ebff;}#sk-container-id-1 div.sk-serial::before {content: \"\";position: absolute;border-left: 1px solid gray;box-sizing: border-box;top: 0;bottom: 0;left: 50%;z-index: 0;}#sk-container-id-1 div.sk-serial {display: flex;flex-direction: column;align-items: center;background-color: white;padding-right: 0.2em;padding-left: 0.2em;position: relative;}#sk-container-id-1 div.sk-item {position: relative;z-index: 1;}#sk-container-id-1 div.sk-parallel {display: flex;align-items: stretch;justify-content: center;background-color: white;position: relative;}#sk-container-id-1 div.sk-item::before, #sk-container-id-1 div.sk-parallel-item::before {content: \"\";position: absolute;border-left: 1px solid gray;box-sizing: border-box;top: 0;bottom: 0;left: 50%;z-index: -1;}#sk-container-id-1 div.sk-parallel-item {display: flex;flex-direction: column;z-index: 1;position: relative;background-color: white;}#sk-container-id-1 div.sk-parallel-item:first-child::after {align-self: flex-end;width: 50%;}#sk-container-id-1 div.sk-parallel-item:last-child::after {align-self: flex-start;width: 50%;}#sk-container-id-1 div.sk-parallel-item:only-child::after {width: 0;}#sk-container-id-1 div.sk-dashed-wrapped {border: 1px dashed gray;margin: 0 0.4em 0.5em 0.4em;box-sizing: border-box;padding-bottom: 0.4em;background-color: white;}#sk-container-id-1 div.sk-label label {font-family: monospace;font-weight: bold;display: inline-block;line-height: 1.2em;}#sk-container-id-1 div.sk-label-container {text-align: center;}#sk-container-id-1 div.sk-container {/* jupyter's `normalize.less` sets `[hidden] { display: none; }` but bootstrap.min.css set `[hidden] { display: none !important; }` so we also need the `!important` here to be able to override the default hidden behavior on the sphinx rendered scikit-learn.org. See: https://github.com/scikit-learn/scikit-learn/issues/21755 */display: inline-block !important;position: relative;}#sk-container-id-1 div.sk-text-repr-fallback {display: none;}</style><div id=\"sk-container-id-1\" class=\"sk-top-container\"><div class=\"sk-text-repr-fallback\"><pre>NearestNeighbors(n_neighbors=10)</pre><b>In a Jupyter environment, please rerun this cell to show the HTML representation or trust the notebook. <br />On GitHub, the HTML representation is unable to render, please try loading this page with nbviewer.org.</b></div><div class=\"sk-container\" hidden><div class=\"sk-item\"><div class=\"sk-estimator sk-toggleable\"><input class=\"sk-toggleable__control sk-hidden--visually\" id=\"sk-estimator-id-1\" type=\"checkbox\" checked><label for=\"sk-estimator-id-1\" class=\"sk-toggleable__label sk-toggleable__label-arrow\">NearestNeighbors</label><div class=\"sk-toggleable__content\"><pre>NearestNeighbors(n_neighbors=10)</pre></div></div></div></div></div>"
            ]
          },
          "metadata": {},
          "execution_count": 14
        }
      ],
      "source": [
        "# Create and fit a NearestNeighbors model named \"nn\"\n",
        "# YOUR CODE HERE\n",
        "nn = NearestNeighbors(n_neighbors=10)\n",
        "nn.fit(dtm)\n"
      ]
    },
    {
      "cell_type": "code",
      "execution_count": 15,
      "metadata": {
        "deletable": false,
        "editable": false,
        "nbgrader": {
          "cell_type": "code",
          "checksum": "d270ed23df3c7d3c6cf08ab174ccaf9e",
          "grade": true,
          "grade_id": "cell-c43704dcff67e99b",
          "locked": true,
          "points": 1,
          "schema_version": 3,
          "solution": false,
          "task": false
        },
        "id": "6lTy-IXjzPRe"
      },
      "outputs": [],
      "source": [
        "'''Testing.'''\n",
        "assert nn.__module__ == 'sklearn.neighbors._unsupervised', ' nn is not a NearestNeighbors instance.'\n",
        "assert nn.n_neighbors == 10, 'nn has the wrong value for n_neighbors'"
      ]
    },
    {
      "cell_type": "code",
      "execution_count": 16,
      "metadata": {
        "deletable": false,
        "nbgrader": {
          "cell_type": "code",
          "checksum": "3da2ced9f187ed0aa1a890785e2ba00e",
          "grade": false,
          "grade_id": "cell-496203e8746296ca",
          "locked": false,
          "schema_version": 3,
          "solution": true,
          "task": false
        },
        "colab": {
          "base_uri": "https://localhost:8080/"
        },
        "id": "MzUItp7fzPRe",
        "outputId": "8defe2c9-d83f-419d-89e9-4345cf5c640b"
      },
      "outputs": [
        {
          "output_type": "stream",
          "name": "stdout",
          "text": [
            "This is my favorite pizza place in Madison, the taste is incomparable.\n",
            "\n",
            "The price is a bit much in terms of volume of food per cost, but that isn't much of a negative, as it's a result of the smaller amount of dough involved in their ultra-thin, ultra-delicious Neapolitan style wood-fired pizza. Quality over quantity, and oh, what quality.\n",
            "\n",
            "I prefer the default margherita pizza, as nothing more is needed beyond tomato, basil and mozzarella, but there are many topping options to choose between, and none of them are anything but the finest quality. The dough is simple and perfect, only the necessary ingredients, so the flavors show through.\n",
            "\n",
            "The quality does anything but dip as one ventures beyond the pizzas to the realms of fabulous salads (roasted beet with honey balsamic is my pick), and the lunch only \"Pane Brutta\" sandwiches (I absolutely love the caprese, probably more so even than the pizzas).\n",
            "\n",
            "Do not leave without consuming the butterscotch budino dessert. Don't question it, just let the taste take you away.\n",
            "\n",
            "The only downside of this institution I've found is the slightly high price point, but it's a faint complaint, and so much else is praiseworthy, there's no good reason to drop below five stars.\n",
            "The pad kee mao dish here is a must try for first timers! Besides they provide a spice level for all the dishes and if you love spicy and hot food definitely go for level 5! The Thai curries served here are also of great quality. And all this at a cheap price!\n",
            "We ordered a fresh white peach margarita and it tasted Iike sugar syrup.  Not much peach flavor - only sugar. The veggie enchiladas had absolutely NO flavor- and they were very oily. The rice was a bit dry and crunchy. The chips on the table were greasy and flavorless.  The price for this was $31 before tip and the quality of $5 street food.\n",
            "Great food with modern style atmosphere. But the price is a bit irrational considering the amount of the dishes. It's very dark inside.\n",
            "Decent Sushi at a reasonable price. A little bit expensive, but if you go for the sushi and meats, its well worth it! My biggest complaint is that their service for the take-out has become very lazy and the sushi rolls are very poor in comparison to sitting in. The quality used to be better, but has been going downhill over the past 6 months. Overall, still recommended :)\n",
            "I'm a huge fan of Falafel World down the street, love 'em, BUT this new place Tasty Falafel is actually a bit better... a bit tastier, a bit better price, a bit more options/ingredients, and bit friendlier, a bit more generous, this place has really rocked my Bloor West world... deal breaker: Falafel World charges 50cents extra for a pinch of tabbouleh on a sandwich, Tasty Falafel generously applies tabbouleh for free and without hesitation... Tasty Falafel also has more overall options, gonna try their lamb next\n",
            "The roti here is an improvement on the other Jamaican restaurants I've eaten at in Charlotte. I'm from Brooklyn, so I'm used to having maximum food for a great price. Not so in Charlotte, for the minimal amount of oxtail, the price could be a bit lower. There is no reason to pay a high price for lots of rice and cabbage but a scoop of oxtail. \n",
            "\n",
            "I'm definitely not expecting oxtails to dominate the plate, but the serving my daughter had was enough to convince me I won't be getting anything other than beef patties here. That is, when they actually have any available.\n",
            "They advertise that they will  price match on the internet in their camera department. h\n",
            "However, don't expect to receieve any of the internet promo items like a free camera bag, or free memory card with purchase of a camera. Seems a bit deceptive to me when they have the exact promo item in the stores inventory.\n",
            "Wowza! I absolutely LOVE Korean BBQ and this place is among my top favorites!! The happy hour is a great price and the quality is excellent. For two people we only spend $25! Including a beer for each of us.\n",
            "If I could give this dairy queen 0 stars I would.  Ever since the ownership changed hands it's been such a disappointment. They do not care about having satisfied customers at all. Their cake selection is a joke I had to get one for my daughter's birthday and it tasted freezer burnt and the decoration was poor quality.\n"
          ]
        }
      ],
      "source": [
        "# Create a fake review and find the 10 most similar reviews\n",
        "\n",
        "# YOUR CODE HERE\n",
        "fake_review = 'I am well pleased with this board. I had done quite a bit of research before I made my decision and I couldn’t be happier. The quality of this board far surpasses others within this price category. I’m a beginner and I find the stability to be outstanding. I LOVE the colors and look too.'\n",
        "\n",
        "fake_review_vect = vect.transform([fake_review])\n",
        "\n",
        "distances, indices = nn.kneighbors(fake_review_vect)\n",
        "\n",
        "for index in indices.flatten():\n",
        "    print(df['text'][index])"
      ]
    },
    {
      "cell_type": "code",
      "execution_count": 17,
      "metadata": {
        "deletable": false,
        "editable": false,
        "nbgrader": {
          "cell_type": "code",
          "checksum": "33e150190aa62764e07f1f6c66bb9393",
          "grade": true,
          "grade_id": "cell-203092260fb65165",
          "locked": true,
          "points": 1,
          "schema_version": 3,
          "solution": false,
          "task": false
        },
        "id": "wWDRq9YdzPRe"
      },
      "outputs": [],
      "source": [
        "# Visible Testing\n",
        "assert isinstance(fake_review, str), \"Did you write a review in the correct data type?\""
      ]
    },
    {
      "cell_type": "markdown",
      "metadata": {
        "id": "MBn0XhymzPRe"
      },
      "source": [
        "## Part 3: Classification\n",
        "<a id=\"#p3\"></a>\n",
        "Your goal in this section will be to predict `stars` from the review dataset. \n",
        "\n",
        "1. Create a pipeline object with a sklearn `CountVectorizer` or `TfidfVector` and any sklearn classifier.\n",
        "    - Use that pipeline to train a model to predict the `stars` feature (i.e. the labels). \n",
        "    - Use that pipeline to predict a star rating for your fake review from Part 2. \n",
        "\n",
        "\n",
        "\n",
        "2. Create a parameter dict including `one parameter for the vectorizer` and `one parameter for the model`. \n",
        "    - Include 2 possible values for each parameter\n",
        "        - **Keep the values for each parameter low. Extreme values will compromise runtime**\n",
        "    - **Use `n_jobs` = 1** \n",
        "    - Due to limited computational resources on CodeGrader `DO NOT INCLUDE ADDITIONAL PARAMETERS OR VALUES PLEASE.`\n",
        "    \n",
        "    \n",
        "3. Train the entire pipeline with a GridSearch\n",
        "    - Name your GridSearch object as `gs`"
      ]
    },
    {
      "cell_type": "code",
      "execution_count": 18,
      "metadata": {
        "deletable": false,
        "jupyter": {
          "outputs_hidden": true
        },
        "nbgrader": {
          "cell_type": "code",
          "checksum": "b3492e82185541e6a463f46b16baff94",
          "grade": false,
          "grade_id": "cell-e2beb0252d274bba",
          "locked": false,
          "schema_version": 3,
          "solution": true,
          "task": false
        },
        "id": "VerooXbnzPRf",
        "colab": {
          "base_uri": "https://localhost:8080/"
        },
        "outputId": "c7637a29-404e-4a61-9a8c-32c79dc5bf6d"
      },
      "outputs": [
        {
          "output_type": "stream",
          "name": "stdout",
          "text": [
            "Predicted Star Rating for the Fake Review: 5\n"
          ]
        }
      ],
      "source": [
        "# YOUR CODE HERE\n",
        "max_featuers = 2000\n",
        "vect = TfidfVectorizer(stop_words='english')\n",
        "clf = RandomForestClassifier()\n",
        "\n",
        "pipe = Pipeline([('vect', vect), ('clf', clf)])\n",
        "\n",
        "parameters = {\n",
        "    'vect__max_df': ([0.75, 0.60]),\n",
        "    'clf__max_depth': ([10, 15])\n",
        "}\n",
        "\n",
        "gs = GridSearchCV(pipe, parameters, n_jobs=1)\n",
        "gs.fit(df['text'], df['stars'])\n",
        "\n",
        "predicted_stars = gs.predict([fake_review])\n",
        "\n",
        "print(\"Predicted Star Rating for the Fake Review:\", predicted_stars[0])"
      ]
    },
    {
      "cell_type": "code",
      "execution_count": 19,
      "metadata": {
        "deletable": false,
        "editable": false,
        "nbgrader": {
          "cell_type": "code",
          "checksum": "ada8e7da1ec21f54451752e97b8cec3e",
          "grade": true,
          "grade_id": "cell-d07134c6fe5d056e",
          "locked": true,
          "points": 1,
          "schema_version": 3,
          "solution": false,
          "task": false
        },
        "id": "zJf043thzPRf"
      },
      "outputs": [],
      "source": [
        "# Visible Testing\n",
        "prediction = gs.predict([\"This is your prediction statement.\"])[0]\n",
        "assert prediction in df.stars.values, 'You gs object should be able to accept raw text within a list. Did you include a vectorizer in your pipeline?'"
      ]
    },
    {
      "cell_type": "markdown",
      "metadata": {
        "deletable": false,
        "editable": false,
        "nbgrader": {
          "cell_type": "markdown",
          "checksum": "2990aa9aa4e9c3cf665cee4392cdab92",
          "grade": false,
          "grade_id": "cell-00b8cbd0b1b4ece5",
          "locked": true,
          "schema_version": 3,
          "solution": false,
          "task": false
        },
        "id": "xOmlFewGzPRf"
      },
      "source": [
        "## Part 4: Topic Modeling\n",
        "\n",
        "Let's find out what those yelp reviews are saying! :D\n",
        "\n",
        "1. Estimate a LDA topic model of the review text\n",
        "    - Set num_topics to `5`\n",
        "    - Name your LDA model `lda`\n",
        "2. Create 1-2 visualizations of the results\n",
        "    - You can use the most important 3 words of a topic in relevant visualizations. \n",
        "3. In markdown, write 1-2 paragraphs of analysis on the results of your topic model\n",
        "\n",
        "When you instantiate your LDA model, it should look like this: \n",
        "\n",
        "```python\n",
        "lda = LdaModel(corpus=corpus,\n",
        "               id2word=id2word,\n",
        "               random_state=723812,\n",
        "               num_topics = num_topics,\n",
        "               passes=1\n",
        "              )\n",
        "\n",
        "```\n",
        "\n",
        "__*Note*__: You can pass the DataFrame column of text reviews to gensim. You do not have to use a generator."
      ]
    },
    {
      "cell_type": "markdown",
      "metadata": {
        "deletable": false,
        "editable": false,
        "nbgrader": {
          "cell_type": "markdown",
          "checksum": "9b07079124654b07cce6d10dae1912b6",
          "grade": false,
          "grade_id": "cell-9eee6fe0eeebb9a3",
          "locked": true,
          "schema_version": 3,
          "solution": false,
          "task": false
        },
        "id": "Woq8nYgOzPRf"
      },
      "source": [
        "## Note about  pyLDAvis\n",
        "\n",
        "**pyLDAvis** is the Topic modeling package that we used in class to visualize the topics that LDA generates for us.\n",
        "\n",
        "You are welcomed to use pyLDAvis if you'd like for your visualization. However, **you MUST comment out the code that imports the package and the cell that generates the visualization before you submit your notebook to CodeGrade.** \n",
        "\n",
        "Although you should leave the print out of the visualization for graders to see (i.e. comment out the cell after you run it to create the viz). "
      ]
    },
    {
      "cell_type": "markdown",
      "metadata": {
        "deletable": false,
        "editable": false,
        "nbgrader": {
          "cell_type": "markdown",
          "checksum": "58830f560044227aa07c22d463e1596c",
          "grade": false,
          "grade_id": "cell-ec7b71ad284832d4",
          "locked": true,
          "schema_version": 3,
          "solution": false,
          "task": false
        },
        "id": "GGGZSsxtzPRf"
      },
      "source": [
        "### 1. Estimate a LDA topic model of the review text\n",
        "\n",
        "* Use the `tokenize` function you created earlier to create tokens.\n",
        "* Create an `id2word` object. \n",
        "> Hint: Use `corpora.Dictionary`\n",
        "* Create a `corpus` object.\n",
        "> Hint: Use `id2word.doc2bow`\n",
        "* Instantiate an `lda` model. \n",
        "\n",
        ">> Remember to read the LDA docs for more information on the various class attributes and methods available to you in the LDA model: https://radimrehurek.com/gensim/models/ldamodel.html"
      ]
    },
    {
      "cell_type": "code",
      "execution_count": 20,
      "metadata": {
        "deletable": false,
        "editable": false,
        "nbgrader": {
          "cell_type": "code",
          "checksum": "bef17fce3f84cc31020898134cfdaec1",
          "grade": false,
          "grade_id": "cell-b4df1a20c7947a8b",
          "locked": true,
          "schema_version": 3,
          "solution": false,
          "task": false
        },
        "id": "rGquiO1MzPRf"
      },
      "outputs": [],
      "source": [
        "# Do not change this value \n",
        "num_topics = 5"
      ]
    },
    {
      "cell_type": "code",
      "execution_count": 21,
      "metadata": {
        "deletable": false,
        "nbgrader": {
          "cell_type": "code",
          "checksum": "fb50f495592df233d97bd4199b958404",
          "grade": false,
          "grade_id": "cell-66331a185ff52f15",
          "locked": false,
          "schema_version": 3,
          "solution": true,
          "task": false
        },
        "id": "fIcMsYuIzPRf"
      },
      "outputs": [],
      "source": [
        "# YOUR CODE HERE\n",
        "df['clean_data'] = df['text'].apply(tokenize)\n"
      ]
    },
    {
      "cell_type": "code",
      "source": [
        "id2word = corpora.Dictionary(df['clean_data'])\n",
        "id2word.filter_extremes(no_below=3, no_above=0.5)\n",
        "corpus = [id2word.doc2bow(token) for token in df['clean_data']]\n",
        "print(type(corpus))\n",
        "print(len(corpus))"
      ],
      "metadata": {
        "colab": {
          "base_uri": "https://localhost:8080/"
        },
        "id": "S29XlGoscX9L",
        "outputId": "c62e84d4-8dd2-4a65-b009-b99320e1b919"
      },
      "execution_count": 22,
      "outputs": [
        {
          "output_type": "stream",
          "name": "stdout",
          "text": [
            "<class 'list'>\n",
            "10000\n"
          ]
        }
      ]
    },
    {
      "cell_type": "code",
      "source": [
        "from gensim.models.ldamulticore import LdaMulticore\n",
        "\n",
        "lda = LdaMulticore(corpus=corpus,\n",
        "                                      id2word=id2word,\n",
        "                                      num_topics=num_topics, \n",
        "                                      chunksize=250,\n",
        "                                      passes=20,              # Runtime related parameter\n",
        "                                      per_word_topics=True,\n",
        "                                      workers=10,             # Set based on your machine capability\n",
        "                                      random_state=42)"
      ],
      "metadata": {
        "id": "t2JtAtDveknf"
      },
      "execution_count": 23,
      "outputs": []
    },
    {
      "cell_type": "markdown",
      "metadata": {
        "id": "0WEgJoNizPRf"
      },
      "source": [
        "#### Testing"
      ]
    },
    {
      "cell_type": "code",
      "execution_count": 24,
      "metadata": {
        "deletable": false,
        "editable": false,
        "nbgrader": {
          "cell_type": "code",
          "checksum": "073be746ce974f75f29c2c92f35af430",
          "grade": true,
          "grade_id": "cell-5a3c181311134fa9",
          "locked": true,
          "points": 1,
          "schema_version": 3,
          "solution": false,
          "task": false
        },
        "id": "3s2tVD-czPRg"
      },
      "outputs": [],
      "source": [
        "# Visible Testing\n",
        "\n",
        "assert lda.get_topics().shape[0] == 5, 'Did your model complete its training? Did you set num_topics to 5?'"
      ]
    },
    {
      "cell_type": "markdown",
      "metadata": {
        "id": "nGZSkymqzPRg"
      },
      "source": [
        "#### 2. Create 2 visualizations of the results:\n",
        "1. Create a visualization using pyLDAvis. Run the cell, then comment out your code before submission, leaving the visualization in the cell.\n",
        "\n",
        "2. Create a visualization using the matplotlib library and utilizing the subplots function. Assign this visualization to a variable called `visual_plot`.\n"
      ]
    },
    {
      "cell_type": "code",
      "source": [
        "# !pip install 'pandas<2.0.0'\n"
      ],
      "metadata": {
        "colab": {
          "base_uri": "https://localhost:8080/",
          "height": 381
        },
        "id": "Jk-lrIuq5hV-",
        "outputId": "5e046d40-be2a-4315-c63c-1090a97f2565"
      },
      "execution_count": 26,
      "outputs": [
        {
          "output_type": "stream",
          "name": "stdout",
          "text": [
            "Looking in indexes: https://pypi.org/simple, https://us-python.pkg.dev/colab-wheels/public/simple/\n",
            "Collecting pandas<2.0.0\n",
            "  Downloading pandas-1.5.3-cp310-cp310-manylinux_2_17_x86_64.manylinux2014_x86_64.whl (12.1 MB)\n",
            "\u001b[2K     \u001b[90m━━━━━━━━━━━━━━━━━━━━━━━━━━━━━━━━━━━━━━━━\u001b[0m \u001b[32m12.1/12.1 MB\u001b[0m \u001b[31m46.4 MB/s\u001b[0m eta \u001b[36m0:00:00\u001b[0m\n",
            "\u001b[?25hRequirement already satisfied: python-dateutil>=2.8.1 in /usr/local/lib/python3.10/dist-packages (from pandas<2.0.0) (2.8.2)\n",
            "Requirement already satisfied: pytz>=2020.1 in /usr/local/lib/python3.10/dist-packages (from pandas<2.0.0) (2022.7.1)\n",
            "Requirement already satisfied: numpy>=1.21.0 in /usr/local/lib/python3.10/dist-packages (from pandas<2.0.0) (1.24.3)\n",
            "Requirement already satisfied: six>=1.5 in /usr/local/lib/python3.10/dist-packages (from python-dateutil>=2.8.1->pandas<2.0.0) (1.16.0)\n",
            "Installing collected packages: pandas\n",
            "  Attempting uninstall: pandas\n",
            "    Found existing installation: pandas 2.0.2\n",
            "    Uninstalling pandas-2.0.2:\n",
            "      Successfully uninstalled pandas-2.0.2\n",
            "\u001b[31mERROR: pip's dependency resolver does not currently take into account all the packages that are installed. This behaviour is the source of the following dependency conflicts.\n",
            "pyldavis 3.4.1 requires pandas>=2.0.0, but you have pandas 1.5.3 which is incompatible.\u001b[0m\u001b[31m\n",
            "\u001b[0mSuccessfully installed pandas-1.5.3\n"
          ]
        },
        {
          "output_type": "display_data",
          "data": {
            "application/vnd.colab-display-data+json": {
              "pip_warning": {
                "packages": [
                  "pandas"
                ]
              }
            }
          },
          "metadata": {}
        }
      ]
    },
    {
      "cell_type": "code",
      "execution_count": 27,
      "metadata": {
        "id": "A3vzJndizPRg",
        "colab": {
          "base_uri": "https://localhost:8080/",
          "height": 861
        },
        "outputId": "9f61998a-cfb1-4ca1-b528-c578ec4d5fe6"
      },
      "outputs": [
        {
          "output_type": "execute_result",
          "data": {
            "text/plain": [
              "PreparedData(topic_coordinates=              x         y  topics  cluster       Freq\n",
              "topic                                                \n",
              "3      0.077932 -0.089141       1        1  27.001939\n",
              "0     -0.032232  0.045382       2        1  26.155232\n",
              "4     -0.142576  0.042848       3        1  23.598747\n",
              "1     -0.025605 -0.097289       4        1  16.971917\n",
              "2      0.122481  0.098201       5        1   6.272166, topic_info=      Term         Freq        Total Category  logprob  loglift\n",
              "270  great  4207.000000  4207.000000  Default  30.0000  30.0000\n",
              "611    she  2427.000000  2427.000000  Default  29.0000  29.0000\n",
              "282    our  3559.000000  3559.000000  Default  28.0000  28.0000\n",
              "191   food  4930.000000  4930.000000  Default  27.0000  27.0000\n",
              "175   were  5835.000000  5835.000000  Default  26.0000  26.0000\n",
              "..     ...          ...          ...      ...      ...      ...\n",
              "93     had   305.967183  6363.282032   Topic5  -4.9878  -0.2658\n",
              "72     but   270.960051  8073.067392   Topic5  -5.1093  -0.6253\n",
              "41    that   247.603372  9296.843238   Topic5  -5.1994  -0.8566\n",
              "69    been   211.900645  2358.278053   Topic5  -5.3551   0.3595\n",
              "174   they   224.431408  8833.006844   Topic5  -5.2977  -0.9036\n",
              "\n",
              "[465 rows x 6 columns], token_table=      Topic      Freq   Term\n",
              "term                        \n",
              "5708      4  0.874550   3040\n",
              "249       1  0.376200  about\n",
              "249       2  0.205815  about\n",
              "249       3  0.126992  about\n",
              "249       4  0.236469  about\n",
              "...     ...       ...    ...\n",
              "396       2  0.680074  youre\n",
              "396       3  0.071751  youre\n",
              "396       4  0.026517  youre\n",
              "396       5  0.032756  youre\n",
              "5948      2  0.939107    zoo\n",
              "\n",
              "[1016 rows x 3 columns], R=30, lambda_step=0.01, plot_opts={'xlab': 'PC1', 'ylab': 'PC2'}, topic_order=[4, 1, 5, 2, 3])"
            ],
            "text/html": [
              "\n",
              "<link rel=\"stylesheet\" type=\"text/css\" href=\"https://cdn.jsdelivr.net/gh/bmabey/pyLDAvis@3.4.0/pyLDAvis/js/ldavis.v1.0.0.css\">\n",
              "\n",
              "\n",
              "<div id=\"ldavis_el128139833203036272195344570\" style=\"background-color:white;\"></div>\n",
              "<script type=\"text/javascript\">\n",
              "\n",
              "var ldavis_el128139833203036272195344570_data = {\"mdsDat\": {\"x\": [0.0779322412772116, -0.03223243395210095, -0.14257593466695756, -0.025604935286204698, 0.12248106262805154], \"y\": [-0.08914099184935345, 0.045381708877611934, 0.042847847832786216, -0.09728913489685961, 0.09820057003581475], \"topics\": [1, 2, 3, 4, 5], \"cluster\": [1, 1, 1, 1, 1], \"Freq\": [27.00193858173784, 26.155231963795167, 23.59874666315355, 16.97191726081433, 6.272165530499117]}, \"tinfo\": {\"Term\": [\"great\", \"she\", \"our\", \"food\", \"were\", \"very\", \"her\", \"with\", \"you\", \"amazing\", \"place\", \"are\", \"chicken\", \"had\", \"service\", \"ordered\", \"always\", \"love\", \"coffee\", \"recommend\", \"back\", \"friendly\", \"will\", \"hair\", \"best\", \"sauce\", \"time\", \"cheese\", \"definitely\", \"good\", \"company\", \"car\", \"office\", \"sales\", \"repair\", \"insurance\", \"doctor\", \"vehicle\", \"schedule\", \"email\", \"rental\", \"scheduled\", \"appointments\", \"dealership\", \"tire\", \"rent\", \"bike\", \"maintenance\", \"warranty\", \"vet\", \"dentist\", \"fees\", \"dental\", \"auto\", \"suite\", \"facility\", \"technician\", \"carpet\", \"tires\", \"contract\", \"desk\", \"property\", \"phone\", \"information\", \"cleaning\", \"calls\", \"called\", \"call\", \"purchased\", \"fixed\", \"room\", \"class\", \"help\", \"him\", \"process\", \"business\", \"them\", \"told\", \"they\", \"appointment\", \"his\", \"that\", \"store\", \"days\", \"care\", \"said\", \"customer\", \"work\", \"would\", \"have\", \"not\", \"when\", \"with\", \"after\", \"did\", \"you\", \"had\", \"from\", \"about\", \"out\", \"get\", \"what\", \"all\", \"there\", \"time\", \"but\", \"their\", \"were\", \"are\", \"one\", \"will\", \"back\", \"she\", \"just\", \"our\", \"very\", \"service\", \"buffets\", \"bowling\", \"trail\", \"hike\", \"costco\", \"ohio\", \"adorable\", \"grub\", \"picnic\", \"booze\", \"trails\", \"oxtail\", \"subway\", \"crawfish\", \"beats\", \"disappoints\", \"karaoke\", \"stations\", \"zoo\", \"aquarium\", \"fridays\", \"obsessed\", \"study\", \"loads\", \"produce\", \"taps\", \"bubble\", \"taquitos\", \"coolest\", \"frills\", \"sports\", \"pastor\", \"casinos\", \"buffet\", \"games\", \"crowd\", \"gluten\", \"shakes\", \"park\", \"boba\", \"punch\", \"casino\", \"selection\", \"youll\", \"cheap\", \"theres\", \"loves\", \"always\", \"are\", \"downtown\", \"outdoor\", \"become\", \"its\", \"mall\", \"wide\", \"strip\", \"love\", \"you\", \"place\", \"youre\", \"can\", \"great\", \"places\", \"music\", \"prices\", \"vegas\", \"spot\", \"area\", \"here\", \"beer\", \"food\", \"your\", \"have\", \"good\", \"best\", \"friendly\", \"but\", \"has\", \"their\", \"like\", \"they\", \"staff\", \"pretty\", \"get\", \"there\", \"really\", \"some\", \"that\", \"very\", \"all\", \"not\", \"just\", \"with\", \"from\", \"one\", \"service\", \"crispy\", \"pork\", \"spinach\", \"creamy\", \"rice\", \"seasoned\", \"mushrooms\", \"tofu\", \"avocado\", \"pudding\", \"lamb\", \"garlic\", \"crunchy\", \"tempura\", \"tomato\", \"topped\", \"roasted\", \"grilled\", \"moist\", \"goat\", \"corn\", \"toasted\", \"sesame\", \"mushroom\", \"risotto\", \"creme\", \"parmesan\", \"mussels\", \"eggplant\", \"peppers\", \"fried\", \"cream\", \"sauce\", \"cheese\", \"shrimp\", \"curry\", \"dish\", \"beef\", \"lobster\", \"chocolate\", \"spicy\", \"salmon\", \"butter\", \"chicken\", \"salad\", \"bread\", \"meat\", \"flavor\", \"soup\", \"steak\", \"dessert\", \"cooked\", \"cake\", \"delicious\", \"fish\", \"dishes\", \"ordered\", \"with\", \"taste\", \"fries\", \"good\", \"had\", \"were\", \"sweet\", \"fresh\", \"but\", \"which\", \"very\", \"try\", \"not\", \"that\", \"menu\", \"food\", \"really\", \"also\", \"like\", \"they\", \"all\", \"their\", \"have\", \"place\", \"just\", \"great\", \"would\", \"well\", \"you\", \"one\", \"refill\", \"pinot\", \"dennys\", \"disappeared\", \"cousin\", \"mimosa\", \"noir\", \"ihop\", \"clearing\", \"scramble\", \"funeral\", \"hostesses\", \"poisoning\", \"easter\", \"grimaldis\", \"jeremy\", \"gumbo\", \"tostada\", \"hostess\", \"psychic\", \"breweries\", \"lux\", \"tonkotsu\", \"shoyu\", \"griddle\", \"busser\", \"carbs\", \"3040\", \"bobbie\", \"drivethrough\", \"waitress\", \"waited\", \"bartender\", \"sat\", \"empty\", \"server\", \"grabbed\", \"waiter\", \"seated\", \"minutes\", \"table\", \"mins\", \"our\", \"orders\", \"asked\", \"bill\", \"tonight\", \"waiting\", \"refills\", \"party\", \"walked\", \"order\", \"drink\", \"came\", \"were\", \"menus\", \"arrived\", \"took\", \"wait\", \"finally\", \"slow\", \"she\", \"food\", \"didnt\", \"ordered\", \"drinks\", \"had\", \"service\", \"out\", \"not\", \"there\", \"that\", \"got\", \"back\", \"but\", \"time\", \"when\", \"went\", \"just\", \"one\", \"they\", \"after\", \"with\", \"would\", \"have\", \"all\", \"about\", \"place\", \"here\", \"hair\", \"salon\", \"haircut\", \"stylist\", \"barber\", \"eyebrows\", \"lashes\", \"facial\", \"salons\", \"brows\", \"nails\", \"pedicure\", \"theater\", \"theaters\", \"lash\", \"sisig\", \"eyebrow\", \"barbers\", \"dunkin\", \"barbershop\", \"gel\", \"defiantly\", \"christina\", \"talented\", \"precise\", \"listens\", \"gentle\", \"mani\", \"manicures\", \"ethiopian\", \"massage\", \"barista\", \"pedi\", \"manicure\", \"nail\", \"pedicures\", \"polish\", \"spa\", \"coffee\", \"shes\", \"color\", \"espresso\", \"relaxing\", \"mocha\", \"highly\", \"cut\", \"she\", \"amazing\", \"her\", \"professional\", \"job\", \"recommend\", \"great\", \"shop\", \"very\", \"awesome\", \"friendly\", \"will\", \"definitely\", \"with\", \"service\", \"experience\", \"back\", \"best\", \"time\", \"place\", \"always\", \"love\", \"have\", \"you\", \"here\", \"had\", \"but\", \"that\", \"been\", \"they\"], \"Freq\": [4207.0, 2427.0, 3559.0, 4930.0, 5835.0, 4421.0, 1396.0, 9214.0, 7908.0, 1325.0, 4729.0, 5447.0, 1385.0, 6363.0, 3614.0, 1541.0, 1462.0, 1644.0, 627.0, 1147.0, 3029.0, 1362.0, 2651.0, 403.0, 1725.0, 830.0, 3380.0, 803.0, 1445.0, 4701.0, 358.2159249733889, 584.8497498252935, 308.37123108203826, 116.85096894929369, 110.02525794370425, 109.80943975733786, 95.16924447721522, 91.70465443261052, 93.58431843055645, 96.36772108391166, 73.77635667789043, 69.28140902160958, 69.07620751633813, 65.91048069772874, 64.76860578256606, 66.0454120263299, 64.19687867771428, 65.23676263902303, 59.74597704035408, 58.178136600115984, 57.58832348162549, 56.870441378428445, 57.03091681268157, 55.2611346210286, 61.38579621790453, 55.94599766576463, 55.101878784339064, 53.96177425273641, 49.98137312245077, 48.59816963686134, 143.85026244442102, 75.00575036383691, 324.5053490735685, 70.2626117932347, 115.94055341874369, 85.01513369504272, 549.0404769494264, 466.23432107555755, 106.66297920807388, 104.46865903872408, 673.1702851714347, 119.91659884344512, 271.69933741147685, 454.4811324187765, 127.97709336937493, 333.3005246755872, 1138.598929980013, 608.6678944939107, 3695.6821336414546, 235.8896149143881, 588.9178327140557, 3619.8094517394616, 442.57448803906453, 255.1186331415957, 349.8914353471986, 644.8770155221438, 498.3584534570963, 521.0926962468104, 1275.1774009643682, 2244.0064616847835, 2120.0503871028004, 1164.669497120341, 2478.523135717965, 769.7819257680625, 747.8548429953587, 2118.717170256522, 1794.086152051517, 1134.6598883818492, 944.7359277126698, 1129.455612666112, 1034.0562408071532, 863.0937962193924, 1101.8700917817364, 1124.4375700603605, 992.8659910754615, 1435.4265408566566, 933.627136190681, 1185.8672493094928, 1076.0697469955883, 900.6395961773102, 802.487193578515, 816.267094853765, 771.3634234529065, 829.8640902160697, 829.0304924712294, 810.7613031468253, 777.3379003212386, 48.766698889853664, 26.352422138885228, 26.671657288590154, 20.004424150595053, 19.60294605191218, 19.24563944507215, 19.115600641817913, 18.16264510817168, 23.215678678000348, 18.727872799862457, 18.018521240394826, 17.341369752580555, 18.20512214592904, 16.721308437877724, 15.943366193634136, 15.501527423541635, 14.84986760241097, 20.961537561535383, 15.145233406131, 15.022175209306035, 14.26430237867251, 13.889302676963984, 13.74301752959858, 13.127022904700906, 45.78440525911235, 13.006485293391052, 40.73653262895609, 14.680650843088701, 12.376170149708278, 12.403318162273035, 60.7563130248897, 26.668488863601397, 36.66236272769032, 222.18633585150585, 87.90427114935429, 82.52369211926168, 44.38846090420716, 24.3838176314372, 157.15276886043523, 55.14429742585883, 23.21887976716425, 120.63694306646036, 383.49244168569226, 159.56698893322653, 189.05545497524568, 285.19367873017825, 75.46884546392413, 1026.3865156633524, 3415.3421119972218, 120.59443608654244, 95.49453263152921, 72.13143236506998, 2065.2955179269466, 101.05627262098761, 72.50084785383655, 239.7744045088597, 1054.828214660718, 4308.814440620838, 2631.2369327326314, 435.64110216526433, 1229.6936551186147, 2186.886559773183, 336.48814925367464, 214.47414989158483, 427.277244135147, 555.6280281464022, 283.7329150417187, 471.6734763910233, 1750.0512118124998, 313.77422224801336, 2111.095743534886, 1125.9515380324149, 2618.963564908138, 1882.6600976952443, 822.2963070493565, 679.6231532830777, 2575.018838657189, 771.9456569785251, 1253.8570440081367, 1279.8949210284643, 2487.4312902380684, 721.3367421629056, 550.4019778848765, 1140.138155475549, 1290.3883961733623, 970.7398268917246, 841.526795761192, 1864.4695492154578, 1229.4968861275604, 1082.3131581920625, 1401.761561408431, 980.0122716175873, 1408.7761712440229, 942.8614324827385, 953.746355102536, 839.8238163259974, 212.8871726923686, 364.77406390240753, 95.9216267290427, 115.1806249653311, 526.0240074232391, 116.9899778265348, 92.29056262950752, 75.5342683832884, 87.40180279723478, 72.0909131001038, 138.36457697536343, 163.2773952140018, 64.75974302944837, 54.59766957105004, 125.54537384385915, 79.2336572148774, 72.9394463468541, 206.43230783359877, 50.463340525665124, 50.886276020184305, 134.5667828467244, 47.80582772322055, 46.66330165205494, 61.416497477679215, 45.45220034119104, 44.14898098396212, 47.01609991803376, 44.56006402855708, 51.76102415514245, 69.72514837710341, 497.36196406750366, 518.4989542595839, 808.3084385456573, 782.1137874259483, 324.82899905793573, 134.67316509308108, 443.5619599556303, 446.1079428252198, 163.4298708669432, 320.787298898034, 347.55112303366445, 206.85565592894417, 189.65605647836927, 1237.9105407380794, 623.4761965647501, 420.74595946811064, 524.0102403241382, 451.8909167100013, 413.006786123313, 379.2553312239893, 322.05712705982785, 346.70175476143254, 191.3112145165224, 860.5053509141129, 316.7149090957259, 351.97133533246387, 933.1577547957074, 3650.0215749819736, 443.43063500694655, 432.57373193338873, 1893.817515900444, 2240.1923729215714, 2049.462964865316, 418.0240121699736, 571.496587298096, 2316.0945780916286, 983.8068246361403, 1322.9323244361512, 694.6785639617908, 1553.0501005840354, 1781.97832890231, 638.2376001996671, 1192.0540849135841, 851.4512383838563, 791.4129455516543, 938.3007258560689, 1265.7992915548718, 834.5119704069588, 793.0396144851409, 940.8573577565062, 801.2366175657596, 725.2849788871912, 706.3304112938382, 676.0912503990777, 612.4913479397517, 707.6544276974737, 641.9571377049358, 57.32806737891563, 18.25547493957377, 16.167810075236705, 15.700819834995748, 15.768281634745222, 15.902802519410871, 14.823539130231433, 13.660276138740489, 13.259211906373785, 12.57682575169997, 11.83368441228555, 11.417184544268988, 12.203443748389494, 12.356356160255526, 13.936445783991802, 10.107827032387975, 10.037011041987505, 9.46782308133223, 99.46940513564073, 8.802828731948072, 9.017444827964706, 8.708090950561923, 9.218641511937651, 8.769894430274285, 8.206302969396624, 8.108567788571431, 11.784426912664838, 10.373259381711211, 7.79442813993701, 7.963897783589489, 374.87647099166054, 269.45674930407927, 153.50272822508992, 244.67520454035102, 122.04436935015643, 501.3799109312377, 29.366776372437453, 203.1855300356228, 210.3484845371681, 636.4223748925576, 567.5358689753015, 88.82141298813822, 2145.441711474067, 156.8416581034586, 516.5140756699244, 127.35573996062524, 76.72352026766748, 283.8836620134293, 43.2267496122848, 199.04101505686828, 231.04097592637632, 807.617891821572, 355.60652382744655, 744.2262249146271, 2256.656796350013, 50.30347015071106, 174.61569629129352, 455.2094324629109, 479.45865886874793, 228.1155282042142, 139.0750242164183, 930.4267552287731, 1615.288461569408, 637.9375435292097, 600.0116974743144, 346.25183976931305, 1576.163797042345, 1044.0751420399042, 996.8949373765735, 1486.0855605157, 1059.5149744022347, 1782.9825355218877, 664.753773194886, 837.3110032135495, 1475.5673838479688, 861.2308512767861, 785.716252677981, 524.5746462090224, 795.5637466493076, 761.0841221825777, 1159.662720881285, 565.0243414500418, 1051.9874569989695, 663.1529746673648, 812.3420618140613, 627.5302052878775, 593.614890280182, 614.4583926667034, 580.1316020117954, 402.65190095951533, 201.2195255060466, 82.18355795233052, 67.894057414388, 45.646339644529455, 37.92005888010002, 27.84812574121376, 32.62562009714906, 23.82999028320326, 22.05987873566454, 177.49139353122024, 101.67343806682146, 51.679460697171216, 16.9248437274326, 17.053058927299343, 16.449941864859905, 15.585920428387315, 15.186957327723663, 14.801700750600155, 14.240627558111214, 82.9258225346791, 12.562238358499288, 11.538189114709128, 25.856983936080276, 11.291728875969639, 11.163192521250918, 20.90585446785942, 16.37538041339327, 11.674446240950509, 10.945255663744579, 137.3854920642237, 25.932596321107233, 31.36918920780513, 53.126516573774644, 157.5551447266962, 24.1752813583614, 54.54655366657135, 82.11929042772492, 394.4679353657971, 62.961912636644406, 99.26361738633119, 42.853007850481085, 55.66925358674125, 34.60681132390146, 241.95156927176006, 163.18179862140136, 705.9044221938113, 447.35373201743437, 440.3580080438393, 157.61350613524354, 183.5499302044239, 327.62154252087953, 779.4292693507542, 151.24406023314836, 602.068196803044, 198.53366831376206, 284.789052026714, 369.38748558468455, 263.4421240073565, 624.7735001836193, 393.67564895699223, 235.61806138090526, 351.0678101983051, 261.0936099603975, 326.91220283839596, 345.3620738795626, 222.57934149572398, 230.40674687329937, 354.89693688737617, 355.2008172637351, 280.90054041119333, 305.96718314468603, 270.96005099229143, 247.60337246349133, 211.9006450118716, 224.43140758386238], \"Total\": [4207.0, 2427.0, 3559.0, 4930.0, 5835.0, 4421.0, 1396.0, 9214.0, 7908.0, 1325.0, 4729.0, 5447.0, 1385.0, 6363.0, 3614.0, 1541.0, 1462.0, 1644.0, 627.0, 1147.0, 3029.0, 1362.0, 2651.0, 403.0, 1725.0, 830.0, 3380.0, 803.0, 1445.0, 4701.0, 359.408551123801, 587.204033910997, 310.2197802770935, 117.66453648414968, 110.82607984727412, 110.6093215261228, 95.98687216262114, 92.51773215871687, 94.42639382387506, 97.24633684674878, 74.58152151687975, 70.09336715076603, 69.90362412051999, 66.72106743000904, 65.57090018197697, 66.87106567929521, 65.01302351921511, 66.06739851833734, 60.544907228283584, 58.981816360575586, 58.39251649784259, 57.674078153920114, 57.843732532323166, 56.07576824099469, 62.300747082710295, 56.78386480107095, 55.92959851498134, 54.77441533108862, 50.78187361047233, 49.39842321603148, 146.85000420288506, 76.94918203915067, 353.6830520563872, 71.95910223264868, 121.56005542939782, 87.9091525142139, 630.8169168002545, 543.0550096710875, 113.76098836434443, 111.89988168376489, 924.8273621432378, 134.46609956031338, 357.9546876765131, 663.6224497400902, 146.85517308453308, 460.0312906566561, 2031.024929235541, 962.7087691491652, 8833.006843899542, 311.9477919963425, 953.6751147758106, 9296.843237842608, 681.5043426648917, 349.13457777222635, 537.8663319469606, 1195.3129554198485, 854.0411042234109, 927.2435889735799, 3124.350800331654, 6971.066383050865, 6718.895148124444, 3108.99002095966, 9214.08183912655, 1762.4756648993, 1708.0037906066616, 7908.900714866783, 6363.282031515087, 3228.2283006719717, 2511.962170914236, 3649.1320342392255, 3222.9034986969064, 2366.9601084998426, 3838.3622115340863, 4101.8355362987795, 3380.7951323009643, 8073.067392445734, 3317.436412796621, 5835.986775021477, 5447.583854298008, 3334.0394321899767, 2651.108717901543, 3029.63780255656, 2427.294547104082, 3465.4491926752066, 3559.9968488369277, 4421.784893308262, 3614.1036486061544, 49.57382161529444, 27.18328220747365, 27.55969835107779, 20.837065082544218, 20.422194343076775, 20.07679901223412, 19.955468481671243, 18.966523386648134, 24.250479501556796, 19.56376957694853, 18.82397748771484, 18.16755333505692, 19.076335178595993, 17.557263494539168, 16.75051761319456, 16.3032481232946, 15.649770573373118, 22.09219880945275, 15.972619259304233, 15.86013598546285, 15.071538251724157, 14.694613181208947, 14.566780123801212, 13.935757862068536, 48.61074261536182, 13.815979913761305, 43.28328561738621, 15.637129186095866, 13.184546583869706, 13.228049510799758, 65.08631680343083, 28.44244437655773, 39.242157960608154, 246.1644222256635, 96.25767593754658, 91.5333781151386, 48.30982031869096, 26.24155280416526, 185.44777846452308, 62.04872578338357, 24.97947073768402, 141.65179234572298, 485.19680171097065, 192.53093301555245, 233.80500389708104, 366.75034606854155, 87.8299445868188, 1462.0036264728326, 5447.583854298008, 147.00934014783314, 114.18924914909385, 84.2877214650769, 3233.1094134098985, 121.98332618696546, 84.8938614916709, 318.3490109385763, 1644.238459388903, 7908.900714866783, 4729.110534511008, 641.1071040298962, 2103.2599431628614, 4207.434923317909, 492.97315237727474, 294.439088548262, 651.143863247651, 884.2747061525215, 407.70615292276074, 751.2029484666405, 3645.624270019828, 472.11355127561137, 4930.119341820949, 2344.6136445330776, 6971.066383050865, 4701.24216604571, 1725.073837332896, 1362.6088541819772, 8073.067392445734, 1672.7673617426274, 3317.436412796621, 3456.6845136301795, 8833.006843899542, 1555.801791394352, 1067.2964233029768, 3222.9034986969064, 4101.8355362987795, 2652.1521857195635, 2200.37625414242, 9296.843237842608, 4421.784893308262, 3838.3622115340863, 6718.895148124444, 3465.4491926752066, 9214.08183912655, 3228.2283006719717, 3334.0394321899767, 3614.1036486061544, 213.9382940778594, 367.68176444340514, 96.75684642360694, 116.3198193863342, 531.4356402847835, 118.20146770776101, 93.3098802250275, 76.37792512907183, 88.42318402924103, 72.97717295643392, 140.10015038949356, 165.44064315622478, 65.62014101654553, 55.39518278427408, 127.45612669319381, 80.45911314430842, 74.07457381793301, 209.73180617320324, 51.2743482636635, 51.70653192984311, 136.83325674484323, 48.617647852350444, 47.46895548481281, 62.50173313180465, 46.25552196908453, 44.951418139154875, 47.88575868278137, 45.38718026830616, 52.73517388872087, 71.05216234278579, 507.480385403386, 530.3364350930498, 830.9747609104417, 803.9645143777989, 332.3967651890564, 137.40887966649618, 460.39318545454836, 463.45039270515787, 168.80367809413372, 336.47397460236203, 366.44521111568855, 216.12747063445786, 198.42785589046173, 1385.0993840470412, 682.6595413858399, 457.80185801617023, 575.6372446788575, 494.209281057807, 455.37832252377086, 420.4531315020698, 363.0914294977159, 410.1330427712555, 209.18167982837096, 1233.0480223167385, 387.31344755223125, 442.1795532835853, 1541.6609937390094, 9214.08183912655, 619.5803001071697, 602.3645473401747, 4701.24216604571, 6363.282031515087, 5835.986775021477, 580.9584685600673, 929.6259027920202, 8073.067392445734, 2339.528545749818, 4421.784893308262, 1420.0424456862556, 6718.895148124444, 9296.843237842608, 1252.663067587239, 4930.119341820949, 2652.1521857195635, 2258.158141495958, 3456.6845136301795, 8833.006843899542, 3838.3622115340863, 3317.436412796621, 6971.066383050865, 4729.110534511008, 3465.4491926752066, 4207.434923317909, 3124.350800331654, 1824.8481934546096, 7908.900714866783, 3334.0394321899767, 58.761216973841506, 19.075074749910595, 16.96573294485702, 16.514054522896533, 16.63588887755676, 16.780110268406215, 15.651831149978387, 14.460891258212193, 14.065957192602434, 13.376776951999016, 12.638432767776504, 12.23381898032976, 13.099542658400058, 13.300551954095896, 15.019982173285813, 10.910806341653144, 10.862971788746751, 10.274240768947585, 108.03738045411667, 9.603518128556376, 9.844398614723112, 9.508243715185294, 10.071311083977005, 9.59305167460533, 9.002147599450614, 8.902014422927465, 12.956136047452587, 11.434458426180425, 8.593991074644242, 8.783440953036978, 418.0678406088171, 311.3820640516655, 178.17212352432784, 286.9440691796553, 146.37059551548506, 642.1323966086851, 33.68589069042651, 257.1222009725157, 267.5766025652602, 884.3747740096444, 797.9574869972263, 111.37758779703367, 3559.9968488369277, 211.69890375720942, 862.4948288007787, 181.03958501614622, 102.58001615510545, 453.09061047116614, 54.28559644148343, 309.2674028300517, 367.91012460352357, 1552.0389302212016, 634.6745632716085, 1534.0328075242733, 5835.986775021477, 65.45491340048929, 293.5868158247995, 932.4358423877082, 1001.8223983148622, 415.0757273691303, 229.55313484585665, 2427.294547104082, 4930.119341820949, 1612.507440543955, 1541.6609937390094, 740.1319760976627, 6363.282031515087, 3614.1036486061544, 3649.1320342392255, 6718.895148124444, 4101.8355362987795, 9296.843237842608, 2053.4298903742033, 3029.63780255656, 8073.067392445734, 3380.7951323009643, 3108.99002095966, 1478.7297739187527, 3465.4491926752066, 3334.0394321899767, 8833.006843899542, 1762.4756648993, 9214.08183912655, 3124.350800331654, 6971.066383050865, 3838.3622115340863, 2511.962170914236, 4729.110534511008, 3645.624270019828, 403.9305888594786, 202.47013106036124, 82.97885358246464, 68.69062066726428, 46.441194754490226, 38.73625310983246, 28.645625308764387, 33.679699133733365, 24.629411338345985, 22.854799232050386, 184.37902309886434, 105.631735289415, 53.94963585495953, 17.72465951362791, 17.871367628928798, 17.253010802353714, 16.394872753236776, 15.98029817238201, 15.605593411061667, 15.034789947753929, 88.13985108643493, 13.36374460637598, 12.333040528349155, 27.684273763973536, 12.095191183923651, 11.958029939354326, 22.424159545029234, 17.57119712776333, 12.54257114685475, 11.76138436075557, 148.38372527591014, 27.896033220597552, 34.07980001712273, 58.510338836595984, 177.47138526983576, 26.331192988194584, 63.526566988517345, 98.7939045879055, 627.8426631187754, 82.36884863844135, 140.99636443339446, 53.75647246490837, 74.94243904039988, 44.257834299992545, 543.0340757187382, 343.695374228128, 2427.294547104082, 1325.883725767874, 1396.9261030168745, 335.8302219831295, 483.8223222233073, 1147.444182708637, 4207.434923317909, 417.6007270671902, 4421.784893308262, 687.1454308139021, 1362.6088541819772, 2651.108717901543, 1445.0857130354898, 9214.08183912655, 3614.1036486061544, 1269.3009622302575, 3029.63780255656, 1725.073837332896, 3380.7951323009643, 4729.110534511008, 1462.0036264728326, 1644.238459388903, 6971.066383050865, 7908.900714866783, 3645.624270019828, 6363.282031515087, 8073.067392445734, 9296.843237842608, 2358.2780530300556, 8833.006843899542], \"Category\": [\"Default\", \"Default\", \"Default\", \"Default\", \"Default\", \"Default\", \"Default\", \"Default\", \"Default\", \"Default\", \"Default\", \"Default\", \"Default\", \"Default\", \"Default\", \"Default\", \"Default\", \"Default\", \"Default\", \"Default\", \"Default\", \"Default\", \"Default\", \"Default\", \"Default\", \"Default\", \"Default\", \"Default\", \"Default\", \"Default\", \"Topic1\", \"Topic1\", \"Topic1\", \"Topic1\", \"Topic1\", \"Topic1\", \"Topic1\", \"Topic1\", \"Topic1\", \"Topic1\", \"Topic1\", \"Topic1\", \"Topic1\", \"Topic1\", \"Topic1\", \"Topic1\", \"Topic1\", \"Topic1\", \"Topic1\", \"Topic1\", \"Topic1\", \"Topic1\", \"Topic1\", \"Topic1\", \"Topic1\", \"Topic1\", \"Topic1\", \"Topic1\", \"Topic1\", \"Topic1\", \"Topic1\", \"Topic1\", \"Topic1\", \"Topic1\", \"Topic1\", \"Topic1\", \"Topic1\", \"Topic1\", \"Topic1\", \"Topic1\", \"Topic1\", \"Topic1\", \"Topic1\", \"Topic1\", \"Topic1\", \"Topic1\", \"Topic1\", \"Topic1\", \"Topic1\", \"Topic1\", \"Topic1\", \"Topic1\", \"Topic1\", \"Topic1\", \"Topic1\", \"Topic1\", \"Topic1\", \"Topic1\", \"Topic1\", \"Topic1\", \"Topic1\", \"Topic1\", \"Topic1\", \"Topic1\", \"Topic1\", \"Topic1\", \"Topic1\", \"Topic1\", \"Topic1\", \"Topic1\", \"Topic1\", \"Topic1\", \"Topic1\", \"Topic1\", \"Topic1\", \"Topic1\", \"Topic1\", \"Topic1\", \"Topic1\", \"Topic1\", \"Topic1\", \"Topic1\", \"Topic1\", \"Topic1\", \"Topic1\", \"Topic1\", \"Topic1\", \"Topic2\", \"Topic2\", \"Topic2\", \"Topic2\", \"Topic2\", \"Topic2\", \"Topic2\", \"Topic2\", \"Topic2\", \"Topic2\", \"Topic2\", \"Topic2\", \"Topic2\", \"Topic2\", \"Topic2\", \"Topic2\", \"Topic2\", \"Topic2\", \"Topic2\", \"Topic2\", \"Topic2\", \"Topic2\", \"Topic2\", \"Topic2\", \"Topic2\", \"Topic2\", \"Topic2\", \"Topic2\", \"Topic2\", \"Topic2\", \"Topic2\", \"Topic2\", \"Topic2\", \"Topic2\", \"Topic2\", \"Topic2\", \"Topic2\", \"Topic2\", \"Topic2\", \"Topic2\", \"Topic2\", \"Topic2\", \"Topic2\", \"Topic2\", \"Topic2\", \"Topic2\", \"Topic2\", \"Topic2\", \"Topic2\", \"Topic2\", \"Topic2\", \"Topic2\", \"Topic2\", \"Topic2\", \"Topic2\", \"Topic2\", \"Topic2\", \"Topic2\", \"Topic2\", \"Topic2\", \"Topic2\", \"Topic2\", \"Topic2\", \"Topic2\", \"Topic2\", \"Topic2\", \"Topic2\", \"Topic2\", \"Topic2\", \"Topic2\", \"Topic2\", \"Topic2\", \"Topic2\", \"Topic2\", \"Topic2\", \"Topic2\", \"Topic2\", \"Topic2\", \"Topic2\", \"Topic2\", \"Topic2\", \"Topic2\", \"Topic2\", \"Topic2\", \"Topic2\", \"Topic2\", \"Topic2\", \"Topic2\", \"Topic2\", \"Topic2\", \"Topic2\", \"Topic2\", \"Topic2\", \"Topic2\", \"Topic2\", \"Topic2\", \"Topic3\", \"Topic3\", \"Topic3\", \"Topic3\", \"Topic3\", \"Topic3\", \"Topic3\", \"Topic3\", \"Topic3\", \"Topic3\", \"Topic3\", \"Topic3\", \"Topic3\", \"Topic3\", \"Topic3\", \"Topic3\", \"Topic3\", \"Topic3\", \"Topic3\", \"Topic3\", \"Topic3\", \"Topic3\", \"Topic3\", \"Topic3\", \"Topic3\", \"Topic3\", \"Topic3\", \"Topic3\", \"Topic3\", \"Topic3\", \"Topic3\", \"Topic3\", \"Topic3\", \"Topic3\", \"Topic3\", \"Topic3\", \"Topic3\", \"Topic3\", \"Topic3\", \"Topic3\", \"Topic3\", \"Topic3\", \"Topic3\", \"Topic3\", \"Topic3\", \"Topic3\", \"Topic3\", \"Topic3\", \"Topic3\", \"Topic3\", \"Topic3\", \"Topic3\", \"Topic3\", \"Topic3\", \"Topic3\", \"Topic3\", \"Topic3\", \"Topic3\", \"Topic3\", \"Topic3\", \"Topic3\", \"Topic3\", \"Topic3\", \"Topic3\", \"Topic3\", \"Topic3\", \"Topic3\", \"Topic3\", \"Topic3\", \"Topic3\", \"Topic3\", \"Topic3\", \"Topic3\", \"Topic3\", \"Topic3\", \"Topic3\", \"Topic3\", \"Topic3\", \"Topic3\", \"Topic3\", \"Topic3\", \"Topic3\", \"Topic3\", \"Topic3\", \"Topic3\", \"Topic3\", \"Topic3\", \"Topic4\", \"Topic4\", \"Topic4\", \"Topic4\", \"Topic4\", \"Topic4\", \"Topic4\", \"Topic4\", \"Topic4\", \"Topic4\", \"Topic4\", \"Topic4\", \"Topic4\", \"Topic4\", \"Topic4\", \"Topic4\", \"Topic4\", \"Topic4\", \"Topic4\", \"Topic4\", \"Topic4\", \"Topic4\", \"Topic4\", \"Topic4\", \"Topic4\", \"Topic4\", \"Topic4\", \"Topic4\", \"Topic4\", \"Topic4\", \"Topic4\", \"Topic4\", \"Topic4\", \"Topic4\", \"Topic4\", \"Topic4\", \"Topic4\", \"Topic4\", \"Topic4\", \"Topic4\", \"Topic4\", \"Topic4\", \"Topic4\", \"Topic4\", \"Topic4\", \"Topic4\", \"Topic4\", \"Topic4\", \"Topic4\", \"Topic4\", \"Topic4\", \"Topic4\", \"Topic4\", \"Topic4\", \"Topic4\", \"Topic4\", \"Topic4\", \"Topic4\", \"Topic4\", \"Topic4\", \"Topic4\", \"Topic4\", \"Topic4\", \"Topic4\", \"Topic4\", \"Topic4\", \"Topic4\", \"Topic4\", \"Topic4\", \"Topic4\", \"Topic4\", \"Topic4\", \"Topic4\", \"Topic4\", \"Topic4\", \"Topic4\", \"Topic4\", \"Topic4\", \"Topic4\", \"Topic4\", \"Topic4\", \"Topic4\", \"Topic4\", \"Topic4\", \"Topic4\", \"Topic4\", \"Topic4\", \"Topic4\", \"Topic4\", \"Topic5\", \"Topic5\", \"Topic5\", \"Topic5\", \"Topic5\", \"Topic5\", \"Topic5\", \"Topic5\", \"Topic5\", \"Topic5\", \"Topic5\", \"Topic5\", \"Topic5\", \"Topic5\", \"Topic5\", \"Topic5\", \"Topic5\", \"Topic5\", \"Topic5\", \"Topic5\", \"Topic5\", \"Topic5\", \"Topic5\", \"Topic5\", \"Topic5\", \"Topic5\", \"Topic5\", \"Topic5\", \"Topic5\", \"Topic5\", \"Topic5\", \"Topic5\", \"Topic5\", \"Topic5\", \"Topic5\", \"Topic5\", \"Topic5\", \"Topic5\", \"Topic5\", \"Topic5\", \"Topic5\", \"Topic5\", \"Topic5\", \"Topic5\", \"Topic5\", \"Topic5\", \"Topic5\", \"Topic5\", \"Topic5\", \"Topic5\", \"Topic5\", \"Topic5\", \"Topic5\", \"Topic5\", \"Topic5\", \"Topic5\", \"Topic5\", \"Topic5\", \"Topic5\", \"Topic5\", \"Topic5\", \"Topic5\", \"Topic5\", \"Topic5\", \"Topic5\", \"Topic5\", \"Topic5\", \"Topic5\", \"Topic5\", \"Topic5\", \"Topic5\", \"Topic5\", \"Topic5\", \"Topic5\", \"Topic5\", \"Topic5\"], \"logprob\": [30.0, 29.0, 28.0, 27.0, 26.0, 25.0, 24.0, 23.0, 22.0, 21.0, 20.0, 19.0, 18.0, 17.0, 16.0, 15.0, 14.0, 13.0, 12.0, 11.0, 10.0, 9.0, 8.0, 7.0, 6.0, 5.0, 4.0, 3.0, 2.0, 1.0, -6.2899, -5.7997, -6.4397, -7.4101, -7.4703, -7.4723, -7.6154, -7.6524, -7.6322, -7.6028, -7.87, -7.9328, -7.9358, -7.9827, -8.0002, -7.9807, -8.0091, -7.993, -8.0809, -8.1075, -8.1177, -8.1302, -8.1274, -8.1589, -8.0538, -8.1466, -8.1618, -8.1827, -8.2594, -8.2874, -7.2022, -7.8535, -6.3887, -7.9188, -7.4179, -7.7282, -5.8628, -6.0263, -7.5013, -7.5221, -5.659, -7.3842, -6.5663, -6.0519, -7.3192, -6.362, -5.1335, -5.7597, -3.9561, -6.7077, -5.7927, -3.9768, -6.0784, -6.6293, -6.3134, -5.702, -5.9597, -5.9151, -5.0202, -4.455, -4.5118, -5.1108, -4.3556, -5.5249, -5.5538, -4.5125, -4.6788, -5.1369, -5.3201, -5.1415, -5.2298, -5.4105, -5.1663, -5.146, -5.2704, -4.9018, -5.3319, -5.0928, -5.1899, -5.3679, -5.4833, -5.4663, -5.5229, -5.4498, -5.4508, -5.473, -5.5151, -8.2521, -8.8676, -8.8556, -9.1432, -9.1635, -9.1819, -9.1887, -9.2398, -8.9943, -9.2091, -9.2478, -9.2861, -9.2375, -9.3225, -9.3701, -9.3982, -9.4412, -9.0965, -9.4215, -9.4296, -9.4814, -9.508, -9.5186, -9.5645, -8.3152, -9.5737, -8.432, -9.4526, -9.6234, -9.6212, -8.0323, -8.8557, -8.5374, -6.7356, -7.6629, -7.7261, -8.3462, -8.9452, -7.0819, -8.1292, -8.9942, -7.3464, -6.1898, -7.0667, -6.8971, -6.486, -7.8154, -5.2054, -4.0031, -7.3467, -7.5801, -7.8607, -4.5061, -7.5235, -7.8556, -6.6595, -5.178, -3.7707, -4.264, -6.0623, -5.0246, -4.4489, -6.3206, -6.771, -6.0817, -5.8191, -6.4911, -5.9829, -4.6718, -6.3905, -4.4842, -5.1128, -4.2686, -4.5987, -5.4271, -5.6176, -4.2855, -5.4902, -5.0052, -4.9846, -4.3202, -5.5581, -5.8285, -5.1003, -4.9765, -5.2611, -5.4039, -4.6084, -5.0248, -5.1523, -4.8937, -5.2516, -4.8887, -5.2902, -5.2788, -5.406, -6.6755, -6.137, -7.4728, -7.2898, -5.771, -7.2742, -7.5114, -7.7117, -7.5658, -7.7584, -7.1064, -6.9409, -7.8656, -8.0363, -7.2036, -7.6639, -7.7467, -6.7063, -8.1151, -8.1067, -7.1342, -8.1692, -8.1933, -7.9186, -8.2196, -8.2487, -8.1858, -8.2395, -8.0897, -7.7917, -5.827, -5.7854, -5.3414, -5.3743, -6.253, -7.1335, -5.9415, -5.9357, -6.9399, -6.2655, -6.1854, -6.7043, -6.7911, -4.9151, -5.601, -5.9943, -5.7748, -5.9229, -6.0128, -6.0981, -6.2616, -6.1878, -6.7824, -5.2788, -6.2783, -6.1728, -5.1977, -3.8338, -5.9418, -5.9666, -4.49, -4.322, -4.411, -6.0008, -5.688, -4.2887, -5.1449, -4.8487, -5.4929, -4.6883, -4.5508, -5.5776, -4.9529, -5.2894, -5.3625, -5.1922, -4.8928, -5.3095, -5.3604, -5.1895, -5.3501, -5.4497, -5.4762, -5.52, -5.6188, -5.4743, -5.5718, -7.6579, -8.8022, -8.9236, -8.953, -8.9487, -8.9402, -9.0105, -9.0922, -9.122, -9.1748, -9.2357, -9.2716, -9.205, -9.1925, -9.0722, -9.3934, -9.4004, -9.4588, -7.1068, -9.5316, -9.5075, -9.5424, -9.4854, -9.5353, -9.6018, -9.6137, -9.2399, -9.3674, -9.6533, -9.6318, -5.7801, -6.1103, -6.673, -6.2067, -6.9023, -5.4893, -8.3268, -6.3926, -6.3579, -5.2508, -5.3654, -7.22, -4.0356, -6.6514, -5.4596, -6.8597, -7.3665, -6.0581, -7.9402, -6.4132, -6.2641, -5.0126, -5.8328, -5.0943, -3.985, -7.7886, -6.5441, -5.5859, -5.534, -6.2768, -6.7717, -4.871, -4.3194, -5.2484, -5.3097, -5.8595, -4.3439, -4.7558, -4.802, -4.4028, -4.7411, -4.2206, -5.2073, -4.9765, -4.4099, -4.9483, -5.0401, -5.4441, -5.0276, -5.0719, -4.6508, -5.3698, -4.7482, -5.2097, -5.0067, -5.2649, -5.3204, -5.2859, -5.3434, -4.7132, -5.4068, -6.3023, -6.4933, -6.8903, -7.0758, -7.3845, -7.2261, -7.5403, -7.6175, -5.5323, -6.0895, -6.7662, -7.8825, -7.8749, -7.9109, -7.9649, -7.9908, -8.0165, -8.0551, -6.2933, -8.1805, -8.2656, -7.4587, -8.2872, -8.2986, -7.6712, -7.9155, -8.2538, -8.3183, -5.7884, -7.4557, -7.2654, -6.7386, -5.6515, -7.5259, -6.7122, -6.3031, -4.7337, -6.5687, -6.1135, -6.9535, -6.6918, -7.1672, -5.2225, -5.6164, -4.1518, -4.6079, -4.6236, -5.6511, -5.4987, -4.9194, -4.0527, -5.6923, -4.3109, -5.4203, -5.0595, -4.7994, -5.1374, -4.2738, -4.7357, -5.249, -4.8503, -5.1464, -4.9215, -4.8666, -5.3059, -5.2714, -4.8394, -4.8385, -5.0732, -4.9878, -5.1093, -5.1994, -5.3551, -5.2977], \"loglift\": [30.0, 29.0, 28.0, 27.0, 26.0, 25.0, 24.0, 23.0, 22.0, 21.0, 20.0, 19.0, 18.0, 17.0, 16.0, 15.0, 14.0, 13.0, 12.0, 11.0, 10.0, 9.0, 8.0, 7.0, 6.0, 5.0, 4.0, 3.0, 2.0, 1.0, 1.3059, 1.3052, 1.3033, 1.3023, 1.302, 1.302, 1.3007, 1.3004, 1.3003, 1.3002, 1.2984, 1.2976, 1.2974, 1.297, 1.297, 1.2968, 1.2966, 1.2966, 1.296, 1.2955, 1.2954, 1.2952, 1.2951, 1.2946, 1.2945, 1.2944, 1.2944, 1.2943, 1.2934, 1.2929, 1.2886, 1.2837, 1.2232, 1.2854, 1.2619, 1.2758, 1.1704, 1.1567, 1.2448, 1.2405, 0.9917, 1.1947, 1.0336, 0.9307, 1.1717, 0.987, 0.7305, 0.8508, 0.4379, 1.0298, 0.8272, 0.366, 0.8776, 0.9955, 0.8793, 0.6922, 0.7706, 0.733, 0.4131, 0.1758, 0.1558, 0.3274, -0.0038, 0.4809, 0.4834, -0.0079, 0.0432, 0.2637, 0.3313, 0.1365, 0.1725, 0.3004, 0.0612, 0.0151, 0.084, -0.4178, 0.0414, -0.2843, -0.3126, 0.0004, 0.1142, -0.0022, 0.1629, -0.1201, -0.148, -0.3871, -0.2275, 1.3247, 1.3101, 1.3084, 1.3003, 1.3002, 1.2988, 1.2981, 1.2978, 1.2975, 1.2975, 1.2974, 1.2946, 1.2944, 1.2923, 1.2917, 1.2907, 1.2887, 1.2886, 1.2879, 1.2868, 1.2861, 1.2848, 1.2829, 1.2813, 1.2812, 1.2807, 1.2805, 1.278, 1.2778, 1.2767, 1.2723, 1.2767, 1.2731, 1.2386, 1.2503, 1.2375, 1.2565, 1.2677, 1.1756, 1.2232, 1.268, 1.1805, 1.1059, 1.1533, 1.1287, 1.0896, 1.1894, 0.9874, 0.8742, 1.1431, 1.1623, 1.1854, 0.8929, 1.1529, 1.1833, 1.0577, 0.8972, 0.7338, 0.7548, 0.9547, 0.8044, 0.6867, 0.9592, 1.0242, 0.9198, 0.8765, 0.9786, 0.8757, 0.6072, 0.9326, 0.493, 0.6076, 0.3621, 0.426, 0.6002, 0.6455, 0.1984, 0.5678, 0.3682, 0.3476, 0.0739, 0.5725, 0.6789, 0.302, 0.1846, 0.3361, 0.38, -0.2656, 0.0612, 0.0752, -0.2261, 0.0781, -0.5369, 0.1104, 0.0896, -0.1183, 1.4391, 1.436, 1.4353, 1.4341, 1.4337, 1.4337, 1.433, 1.4329, 1.4324, 1.4318, 1.4315, 1.4308, 1.4308, 1.4295, 1.4289, 1.4286, 1.4285, 1.4281, 1.428, 1.428, 1.4273, 1.4271, 1.4269, 1.4265, 1.4265, 1.426, 1.4256, 1.4256, 1.4253, 1.4251, 1.4238, 1.4214, 1.4163, 1.4164, 1.4209, 1.4239, 1.4067, 1.4058, 1.4116, 1.3962, 1.391, 1.4001, 1.3988, 1.3316, 1.3533, 1.3596, 1.35, 1.3545, 1.3463, 1.3409, 1.3241, 1.276, 1.3547, 1.0843, 1.2427, 1.2158, 0.9419, 0.518, 1.1095, 1.1129, 0.5347, 0.4, 0.3975, 1.1148, 0.9575, 0.1953, 0.5777, 0.2373, 0.729, -0.0207, -0.208, 0.7697, 0.0243, 0.3078, 0.3955, 0.14, -0.4988, -0.082, 0.0129, -0.5588, -0.3314, -0.1201, -0.3405, -0.0867, 0.3523, -0.9698, -0.2034, 1.7489, 1.7297, 1.7254, 1.7231, 1.72, 1.7199, 1.7192, 1.7167, 1.7145, 1.7119, 1.7078, 1.7045, 1.7028, 1.7, 1.6987, 1.6972, 1.6945, 1.6919, 1.691, 1.6866, 1.6859, 1.6857, 1.6851, 1.6839, 1.681, 1.6803, 1.6788, 1.6762, 1.676, 1.6757, 1.6646, 1.629, 1.6246, 1.6143, 1.5919, 1.5262, 1.6364, 1.5382, 1.533, 1.4446, 1.4329, 1.5473, 1.2672, 1.4737, 1.2609, 1.4219, 1.4832, 1.3061, 1.5458, 1.3329, 1.3084, 1.1204, 1.1943, 1.0503, 0.8235, 1.5103, 1.254, 1.0566, 1.0367, 1.175, 1.2725, 0.8147, 0.6578, 0.8463, 0.8299, 1.0139, 0.3781, 0.5319, 0.476, 0.2648, 0.42, 0.1222, 0.6458, 0.4876, 0.0741, 0.4061, 0.3982, 0.7373, 0.3021, 0.2964, -0.2568, 0.636, -0.3964, 0.2236, -0.376, -0.0374, 0.331, -0.2671, -0.0644, 2.7659, 2.7629, 2.7594, 2.7574, 2.7518, 2.7478, 2.7408, 2.7373, 2.7361, 2.7336, 2.731, 2.7309, 2.7261, 2.7229, 2.7222, 2.7214, 2.7184, 2.7181, 2.7162, 2.7148, 2.7081, 2.7072, 2.7024, 2.7008, 2.7003, 2.7003, 2.6989, 2.6986, 2.6973, 2.6971, 2.692, 2.6961, 2.6862, 2.6725, 2.65, 2.6836, 2.6166, 2.5842, 2.3043, 2.5004, 2.4181, 2.5424, 2.4718, 2.5231, 1.9606, 2.0242, 1.534, 1.6826, 1.6146, 2.0126, 1.7998, 1.5156, 1.083, 1.7534, 0.7751, 1.5275, 1.2036, 0.7982, 1.067, 0.0779, 0.552, 1.085, 0.6138, 0.8809, 0.4329, 0.1521, 0.8868, 0.8039, -0.2086, -0.334, 0.2058, -0.2658, -0.6253, -0.8566, 0.3595, -0.9036]}, \"token.table\": {\"Topic\": [4, 1, 2, 3, 4, 5, 2, 1, 2, 3, 4, 5, 1, 2, 3, 4, 5, 1, 2, 3, 4, 5, 1, 2, 3, 4, 5, 1, 2, 3, 4, 5, 1, 5, 1, 2, 1, 2, 3, 4, 5, 1, 2, 3, 4, 5, 1, 2, 3, 4, 5, 1, 3, 4, 5, 1, 3, 1, 2, 3, 4, 5, 1, 2, 3, 4, 5, 5, 5, 5, 4, 5, 2, 3, 4, 5, 2, 1, 2, 4, 2, 3, 4, 1, 2, 3, 4, 5, 2, 3, 4, 5, 1, 2, 3, 4, 5, 1, 1, 2, 3, 4, 5, 2, 3, 4, 4, 2, 2, 2, 3, 4, 4, 5, 1, 2, 3, 1, 2, 3, 4, 2, 1, 2, 3, 4, 5, 4, 1, 2, 3, 4, 5, 2, 3, 4, 5, 1, 2, 3, 4, 5, 1, 2, 3, 4, 5, 1, 2, 3, 4, 5, 1, 3, 1, 2, 3, 4, 5, 1, 2, 3, 4, 5, 1, 5, 2, 4, 1, 2, 3, 4, 5, 1, 1, 2, 3, 4, 1, 2, 1, 2, 3, 4, 2, 3, 4, 2, 3, 4, 2, 3, 5, 5, 1, 2, 3, 1, 3, 4, 4, 1, 2, 3, 4, 5, 1, 2, 3, 4, 5, 1, 1, 2, 3, 4, 2, 2, 3, 4, 2, 4, 2, 2, 3, 4, 3, 3, 3, 2, 4, 5, 3, 2, 3, 1, 2, 3, 4, 5, 1, 2, 3, 4, 5, 1, 2, 3, 4, 5, 1, 5, 1, 2, 3, 4, 5, 2, 3, 4, 5, 4, 1, 1, 1, 2, 4, 2, 3, 4, 1, 2, 3, 4, 5, 1, 2, 3, 4, 5, 4, 2, 2, 3, 4, 1, 2, 3, 4, 1, 1, 2, 3, 4, 2, 3, 4, 5, 2, 3, 4, 5, 4, 5, 4, 3, 1, 1, 2, 3, 4, 2, 3, 5, 5, 1, 2, 3, 4, 5, 5, 5, 5, 1, 1, 1, 2, 3, 4, 5, 2, 3, 4, 1, 4, 5, 2, 3, 4, 2, 3, 4, 5, 1, 2, 3, 4, 5, 2, 2, 3, 4, 1, 2, 3, 4, 5, 2, 3, 4, 2, 1, 2, 3, 4, 5, 4, 1, 2, 4, 2, 3, 1, 5, 1, 5, 1, 2, 3, 4, 5, 2, 4, 3, 1, 2, 3, 4, 5, 1, 2, 3, 4, 5, 1, 3, 4, 1, 2, 3, 4, 5, 4, 2, 3, 4, 2, 4, 1, 2, 3, 4, 5, 1, 5, 5, 1, 2, 3, 4, 5, 1, 2, 3, 4, 5, 1, 2, 3, 4, 5, 1, 2, 3, 4, 5, 1, 2, 3, 4, 5, 1, 2, 3, 4, 5, 2, 1, 3, 4, 5, 1, 2, 3, 4, 5, 3, 4, 4, 4, 1, 4, 1, 1, 2, 3, 4, 5, 4, 1, 2, 3, 4, 5, 1, 2, 3, 4, 5, 2, 2, 3, 5, 5, 1, 2, 3, 4, 5, 5, 2, 2, 3, 4, 1, 2, 3, 4, 5, 1, 2, 3, 5, 4, 1, 1, 2, 3, 4, 1, 5, 1, 5, 5, 1, 5, 1, 2, 3, 4, 1, 2, 3, 4, 5, 2, 3, 4, 4, 1, 4, 5, 1, 2, 3, 4, 5, 3, 5, 3, 3, 3, 1, 2, 3, 4, 5, 3, 1, 5, 1, 5, 4, 1, 2, 3, 4, 5, 2, 1, 2, 2, 1, 2, 3, 4, 5, 1, 2, 3, 4, 1, 2, 3, 4, 1, 2, 3, 4, 1, 2, 3, 4, 5, 1, 2, 3, 4, 5, 1, 2, 3, 4, 2, 1, 2, 3, 4, 5, 3, 1, 2, 3, 4, 2, 4, 1, 5, 1, 5, 1, 5, 2, 3, 1, 4, 2, 4, 1, 2, 3, 4, 5, 1, 2, 3, 4, 5, 4, 1, 2, 5, 2, 3, 4, 5, 1, 2, 3, 4, 5, 1, 2, 3, 4, 5, 1, 2, 3, 5, 2, 3, 1, 2, 3, 5, 1, 3, 4, 3, 2, 3, 1, 2, 3, 5, 1, 2, 3, 4, 5, 1, 2, 3, 4, 5, 2, 4, 2, 3, 4, 5, 1, 2, 5, 1, 1, 1, 2, 3, 4, 3, 3, 5, 1, 2, 3, 4, 1, 2, 3, 4, 5, 2, 3, 4, 1, 2, 3, 4, 1, 5, 5, 1, 2, 3, 4, 5, 2, 3, 4, 1, 1, 4, 3, 3, 4, 1, 2, 3, 4, 5, 2, 3, 4, 5, 1, 2, 3, 4, 5, 3, 1, 2, 1, 2, 3, 4, 5, 1, 2, 4, 5, 1, 2, 3, 5, 4, 2, 3, 4, 5, 1, 2, 3, 4, 5, 1, 2, 3, 4, 5, 2, 3, 4, 1, 2, 5, 2, 3, 4, 3, 1, 2, 5, 1, 2, 3, 4, 5, 1, 2, 3, 4, 5, 2, 2, 3, 4, 1, 2, 3, 4, 5, 1, 2, 3, 4, 2, 5, 2, 1, 1, 2, 3, 4, 5, 1, 2, 3, 4, 1, 2, 5, 2, 2, 1, 2, 3, 4, 5, 1, 3, 1, 2, 3, 4, 5, 1, 5, 5, 1, 2, 3, 4, 5, 1, 2, 3, 4, 5, 1, 2, 3, 4, 5, 1, 2, 3, 4, 5, 1, 2, 3, 4, 5, 1, 2, 3, 4, 5, 1, 1, 3, 3, 1, 2, 3, 4, 5, 3, 4, 2, 3, 4, 5, 4, 1, 2, 3, 4, 5, 3, 4, 4, 2, 2, 1, 2, 3, 4, 5, 1, 2, 3, 4, 5, 1, 1, 2, 3, 4, 5, 1, 1, 2, 3, 4, 5, 1, 3, 4, 5, 3, 4, 5, 1, 2, 3, 4, 5, 2, 3, 4, 1, 2, 3, 4, 5, 1, 1, 2, 3, 4, 5, 1, 2, 3, 4, 5, 1, 2, 3, 4, 5, 1, 2, 3, 4, 5, 1, 2, 3, 4, 5, 1, 2, 3, 4, 5, 1, 2, 3, 4, 5, 1, 2, 3, 4, 5, 1, 2, 3, 4, 5, 1, 2, 3, 4, 5, 1, 2, 3, 4, 5, 1, 2, 3, 4, 5, 1, 2, 3, 4, 5, 1, 2, 3, 4, 5, 1, 2, 3, 4, 5, 2], \"Freq\": [0.8745495087991156, 0.37619993284216713, 0.20581520135386286, 0.1269923582821707, 0.2364685292150765, 0.054937133049967266, 0.9521199673889478, 0.4368854647669671, 0.07432726738243206, 0.12198749990246484, 0.32057180206926805, 0.04652546507907961, 0.28710161763487174, 0.2818910619609176, 0.21754069938758433, 0.16361144816215922, 0.05002133446995951, 0.1864351270461071, 0.3476284435420287, 0.3502854762315219, 0.06465446211100151, 0.05092645988195325, 0.0950750035657199, 0.7017766450246664, 0.02188777060505782, 0.02872769891913839, 0.15253040140399668, 0.03921912531951823, 0.3212951420406686, 0.2767965190819845, 0.024889060298925035, 0.3371336349581664, 0.7565368502520673, 0.2404248464784112, 0.9870732865157025, 0.9457674268208521, 0.19751875855037326, 0.6268834204921233, 0.10444997547877545, 0.0387327677082981, 0.03230790102682685, 0.09584626916995839, 0.6283255423363938, 0.10383345826745492, 0.13445101647452495, 0.037273549121650484, 0.2520549153139089, 0.003406147504242012, 0.12943360516119645, 0.5960758132423521, 0.01703073752121006, 0.3640601537711115, 0.01855083586094836, 0.5994238837568938, 0.01855083586094836, 0.9808158091321834, 0.9839048543109419, 0.04220358413160139, 0.4598735374340014, 0.15717196849010173, 0.052390656163367244, 0.2896039049030578, 0.26933912671389904, 0.14160108500032192, 0.19672318568809294, 0.27627064835727144, 0.11585543318208158, 0.9904999266960597, 0.938655827206265, 0.931173634526998, 0.03584739063407881, 0.9320321564860491, 0.09541335459067365, 0.022450201080158508, 0.8643327415861025, 0.022450201080158508, 0.9551943629130977, 0.11864124247495907, 0.8542169458197052, 0.023728248494991812, 0.03452365183381995, 0.9623467948677311, 0.002157728239613747, 0.3137882740541151, 0.35195171279042636, 0.09583263504895946, 0.14883741107161405, 0.08989610013442216, 0.6650942324184473, 0.11649739739813567, 0.21604971881108798, 0.002118134498147921, 0.08347468779808039, 0.47650134284737555, 0.24868500739844782, 0.03999828790324685, 0.1512978716340207, 0.9844181447903941, 0.23199346151977857, 0.0386655769199631, 0.02761826922854507, 0.7015040384050447, 0.005523653845709014, 0.8864001525512198, 0.01611636641002218, 0.0805818320501109, 0.9308829774798398, 0.9711829780691751, 0.9564702231892982, 0.04150267122622489, 0.9196118203284568, 0.037133968991885424, 0.9142254750371197, 0.9625986987078119, 0.04620721304938624, 0.947247867512418, 0.02310360652469312, 0.004062325461001353, 0.9018362523423002, 0.06499720737602165, 0.028436278227009466, 0.9884249066019674, 0.7238638039700961, 0.14564226686485415, 0.02391141694796113, 0.08477684190640765, 0.021737651770873757, 0.8986729991580003, 0.1777515199913706, 0.3189617867440971, 0.28687980508711797, 0.1828301348482669, 0.0335684055175341, 0.015118845015672054, 0.9575268509925634, 0.020158460020896073, 0.010079230010448036, 0.004780533366117331, 0.03824426692893865, 0.9130818729284103, 0.03824426692893865, 0.004780533366117331, 0.8581082794581759, 0.06076732451098671, 0.0313043792935386, 0.04787728597835316, 0.0036828681521810123, 0.8703000591435288, 0.00317049201873781, 0.058654102346649487, 0.06658033239349401, 0.001585246009368905, 0.9669072851800781, 0.022750759651295957, 0.18252543141621794, 0.014341283896988553, 0.28356629523591004, 0.484996146334522, 0.034549456660926965, 0.21252722539269484, 0.584806459134261, 0.11696129182685219, 0.055627931478624826, 0.03042895397121358, 0.9962465620402547, 0.0034059711522743752, 0.07718350566383704, 0.9262020679660445, 0.650719294388766, 0.07064952339078032, 0.01859197983967903, 0.1877789963807582, 0.07250872137474822, 0.9858617325916197, 0.07765521224858778, 0.8542073347344655, 0.021178694249614848, 0.049416953249101316, 0.05096559679535537, 0.9428635407140743, 0.10264964222307489, 0.8083659325067148, 0.07271016324134472, 0.012831205277884361, 0.018657539893547095, 0.9726797464502552, 0.008706851950321977, 0.055591678753778795, 0.8937986791841318, 0.050537889776162546, 0.03863597478932251, 0.9540113774901942, 0.005943996121434232, 0.9729960728188952, 0.8924182406746709, 0.09667864273975602, 0.007436818672288924, 0.9542608350271187, 0.016452773017708942, 0.024679159526563414, 0.9242172304375388, 0.015927557312409333, 0.18953793201767105, 0.0621174735183964, 0.1051218782619016, 0.6275457581089278, 0.184401917769179, 0.028369525810642924, 0.0709238145266073, 0.014184762905321462, 0.7021457638134123, 0.9960809192786406, 0.9919344952714567, 0.03413526475555947, 0.8460669192985096, 0.11947342664445813, 0.9101564413812373, 0.0073081648700704955, 0.9866022574595169, 0.0073081648700704955, 0.9793266905610513, 0.9617760804825627, 0.9682602306041318, 0.0150847640679192, 0.9767384733977682, 0.0056567865254696995, 0.9886535296108854, 0.9788345245035519, 0.9956141836041847, 0.9067730450808383, 0.07647483512729962, 0.010924976446757089, 0.9905495324005907, 0.014555100113283665, 0.9824692576466474, 0.5831101073909516, 0.057374287675013305, 0.005854519150511562, 0.15690111323370987, 0.19554093962708616, 0.11056302426339168, 0.01163821308035702, 0.31132219989955023, 0.09310570464285615, 0.4742571830245485, 0.7303773852109278, 0.1747177274426141, 0.03437070048051425, 0.04582760064068567, 0.014321125200214271, 0.9891928073428164, 0.9727812363158727, 0.07958005463802943, 0.2989442052489453, 0.3577642456335758, 0.08165605606336933, 0.18199612495479775, 0.25465350441910156, 0.6982696410982371, 0.032439936868675356, 0.015408970012620794, 0.9430774403914113, 0.9854135876890087, 0.9932779657157421, 0.9805924132017896, 0.013619339072247078, 0.006809669536123539, 0.04131190874086539, 0.8868289743039104, 0.07160730848416667, 0.43793813814331156, 0.017564363829277202, 0.16686145637813343, 0.2704912029708689, 0.10772809815290017, 0.3404635452812566, 0.035968826277436944, 0.18294489227317068, 0.3956570890518064, 0.04465095675819759, 0.9688716951864363, 0.9813995271984293, 0.0065161694281771045, 0.9643930753702115, 0.030408790664826487, 0.002261524741644182, 0.12890691027371837, 0.796056709058752, 0.07236879173261382, 0.9897186756856794, 0.06122059993568821, 0.8230769546909192, 0.09523204434440388, 0.020406866645229404, 0.27258064212975996, 0.14810740092599675, 0.5609173907410089, 0.017331717129637915, 0.4445153170312256, 0.06755551930565738, 0.4674841935951491, 0.020266655791697216, 0.910804779445111, 0.961193823579153, 0.9022181967647296, 0.9860591359711414, 0.9871837141926191, 0.006831973296810194, 0.08198367956172234, 0.07515170626491215, 0.8335007422108438, 0.018602411098547975, 0.16742169988693176, 0.7999036772375628, 0.9352640524787119, 0.3041043940609396, 0.1504765265949209, 0.11029693048842368, 0.24974376403450219, 0.18592911139477133, 0.9759148631904558, 0.9809931769150492, 0.9798187290499699, 0.9861956419518637, 0.9883122855969863, 0.2987406678437879, 0.05300237655293011, 0.06504837122405059, 0.5492973570030938, 0.036137984013361435, 0.1755683940997939, 0.8184585430828628, 0.005163776297052763, 0.9294022338103057, 0.035746239761934834, 0.026809679821451125, 0.06879676546588988, 0.9145922938406537, 0.016187474227268205, 0.42818436099364243, 0.2417791370461496, 0.32757827712209026, 0.0022311833116674877, 0.0021514030471754706, 0.36896562259059323, 0.6142255699685969, 0.007529910665114147, 0.005378507617938676, 0.9289031926385103, 0.015764156074014487, 0.97934819609815, 0.001970519509251811, 0.08513081332473724, 0.49904269880018376, 0.15338224124888, 0.05357370148884326, 0.2091576017030182, 0.16103205347711305, 0.7188338057277314, 0.12118907117349745, 0.907163220866603, 0.3515860386217865, 0.29211069111924637, 0.18802883298980122, 0.13443906675053333, 0.033764650405087866, 0.949484815126423, 0.010388781884250093, 0.9142128058140082, 0.06233269130550056, 0.006044463929312128, 0.9852476204778768, 0.05672802867679816, 0.9416852760348494, 0.04459475941526068, 0.9364899477204742, 0.32082871870599594, 0.35371831656173636, 0.11076968334433324, 0.16320687237848538, 0.051506351358989684, 0.9107879041929804, 0.06209917528588503, 0.9863357316092722, 0.05572995194594972, 0.40053244089398216, 0.40287224803675104, 0.10656757986610996, 0.03445897792077807, 0.2921940519189871, 0.04723803839356958, 0.27417541871731627, 0.32384840754354405, 0.06282172116258224, 0.05937203853031553, 0.05937203853031553, 0.8608945586895752, 0.07581816613064622, 0.519794135823584, 0.16779819839572488, 0.05110001792504369, 0.18514843704004205, 0.8886768309029088, 0.014303982093791268, 0.9822067704403337, 0.9320916522058242, 0.9490405612591848, 0.9205584065273255, 0.28192998379058987, 0.07024676853645132, 0.35201960071957705, 0.24767093336341672, 0.048088391884013655, 0.0024756728694985885, 0.9976961664079312, 0.9882035778972067, 0.29352557398567025, 0.4615106784459011, 0.12314922248685961, 0.06575929356094445, 0.05619430540662526, 0.32190196975543944, 0.37569574812366124, 0.13498652118532464, 0.11648146142665633, 0.05092477685525, 0.7598727139615192, 0.0949840892451899, 0.016761898102092335, 0.10336503829623607, 0.025142847153138505, 0.36079216997344044, 0.0014317149602120654, 0.002863429920424131, 0.31927243612729056, 0.31497729124665436, 0.1311160900290474, 0.4800275262569727, 0.15278590407150502, 0.15909483727373952, 0.07707870564469105, 0.22650512279031865, 0.19519953671360796, 0.1289053544335147, 0.001841505063335924, 0.44564422532729364, 0.9598280717928241, 0.6841239324827099, 0.015068809085522243, 0.23959406445980366, 0.06027523634208897, 0.6176107469664466, 0.005242875610920599, 0.09751748636312313, 0.20342357370371922, 0.07654598391944074, 0.07404844477321985, 0.9163495040685956, 0.8991468663780652, 0.9681284334428241, 0.9727747821767597, 0.013896782602525139, 0.9944912280654493, 0.12712220573028063, 0.6387040263577359, 0.14413369311511134, 0.06216925389729052, 0.027836979356995757, 0.9165225453433221, 0.551855480278495, 0.03306999132755026, 0.014468121205803238, 0.02066874457971891, 0.380304900266828, 0.23950719051208158, 0.2827916225323373, 0.2092080880979026, 0.2296960525874903, 0.03895598881823013, 0.9584805048529815, 0.007137751081778941, 0.9850096492854938, 0.95124225257846, 0.9774616437307496, 0.17878403353361916, 0.37029702738354775, 0.2713582903795061, 0.1377042070582568, 0.04165841558064912, 0.9198839654848653, 0.9328520291949419, 0.011848083066559106, 0.9656187699245672, 0.017772124599838658, 0.03770742597946705, 0.6416344259409312, 0.1660343111676533, 0.014596422959793697, 0.13988238669802291, 0.06831383109970057, 0.8539228887462572, 0.05692819258308381, 0.011385638516616762, 0.9465470458678299, 0.9838437937276874, 0.07378057543869218, 0.8279820132564345, 0.057384892007871696, 0.04098920857705121, 0.05691131871828768, 0.9105810994926029, 0.08545498281874059, 0.9058228178786503, 0.9567416329154483, 0.06739283557819857, 0.9232818474213205, 0.0017372051743418553, 0.07469982249669978, 0.9102955113551322, 0.013897641394734843, 0.0007982992600924247, 0.30734521513558355, 0.5093149279389669, 0.17642413648042587, 0.006386394080739398, 0.1374992270623449, 0.09166615137489662, 0.7638845947908051, 0.9535098246717117, 0.18854780764572543, 0.7990835657366459, 0.00897846703074883, 0.2284099523600807, 0.040706724182984676, 0.006784454030497446, 0.7191521272327293, 0.0045229693536649644, 0.2033538274601366, 0.7908204401227534, 0.9751464756390363, 0.9759729361642218, 0.9859620415129826, 0.006792576386039779, 0.7268056733062563, 0.020377729158119334, 0.1324552395277757, 0.11207751036965635, 0.9914693914445148, 0.10705951255810346, 0.8902843675884393, 0.03254166281585509, 0.9599790530677251, 0.9583543200963239, 0.31552806722870064, 0.20866525955407467, 0.2311391926444208, 0.22116731504804205, 0.023515771048176745, 0.9527300805646794, 0.992844491492094, 0.003223521076273032, 0.9463660012944317, 0.2702427545699946, 0.28613938719175896, 0.19255921024854222, 0.2282516495313717, 0.0230951077712426, 0.05541098121020908, 0.1469035315805543, 0.2770549060510454, 0.5206054978819644, 0.00259460414205509, 0.00259460414205509, 0.6051914161343498, 0.3891906213082635, 0.023618450125440126, 0.12281594065228865, 0.10864487057702459, 0.74161933393882, 0.2328653746620139, 0.016292149252589632, 0.14101136077241372, 0.6025286232207717, 0.00730337725116087, 0.3093886407525879, 0.22580712132872668, 0.14770635727692194, 0.2732156552970152, 0.04384604297645178, 0.03502956740504797, 0.8319522258698894, 0.10508870221514392, 0.02627217555378598, 0.9357341457308973, 0.09706236520618916, 0.8465995187428721, 0.01078470724513213, 0.03235412173539638, 0.01617706086769819, 0.981502669955611, 0.09700343368061189, 0.15197204609962528, 0.10347032925931934, 0.6434561100813921, 0.9492854989022464, 0.03515872218156468, 0.058685790380082606, 0.9096297508912804, 0.028400555872536346, 0.9656188996662357, 0.07595554067362945, 0.9114664880835532, 0.01407416702078081, 0.9851916914546567, 0.9189018193277344, 0.07916692597285097, 0.9484348545983794, 0.9436398145744811, 0.0712607577134684, 0.5563414051754758, 0.1693764597284516, 0.12983414016637862, 0.07295240774820949, 0.05071270084271725, 0.6815786993261198, 0.1622806426966952, 0.07708330528093021, 0.02839911247192166, 0.9160625155340841, 0.12593156500092362, 0.015741445625115452, 0.8657795093813498, 0.005439486516356312, 0.992706289235027, 0.002719743258178156, 0.9094523462035617, 0.04309955415913713, 0.5153207562505527, 0.29045351715940243, 0.11618140686376097, 0.034667032693218996, 0.0813952230704544, 0.655769061341208, 0.15664741043747826, 0.02303638388786445, 0.08293098199631202, 0.871607021472239, 0.006809429855251867, 0.02723771942100747, 0.09533201797352614, 0.9462928876437945, 0.04114316902799107, 0.5002527735828359, 0.011910780323400856, 0.017866170485101283, 0.47047582277433375, 0.9746692299060573, 0.012995589732080764, 0.9371565586197214, 0.9866098820104025, 0.9207560977383803, 0.04003287381471219, 0.9405684807986119, 0.017580719267263772, 0.035161438534527543, 0.008790359633631886, 0.13309945104233395, 0.36611775343372877, 0.3208714811247201, 0.11273862850328002, 0.06711530392502958, 0.27539465950670977, 0.2562216135916857, 0.1516413631460997, 0.030502573046629247, 0.2858526845512684, 0.017018027391181603, 0.9700275612973512, 0.09210546310179527, 0.07368437048143621, 0.7921069826754392, 0.036842185240718105, 0.013343574252512935, 0.24018433654523283, 0.7472401581407244, 0.9869739524793469, 0.9922028740490614, 0.992546160178069, 0.0056450862015810085, 0.9897717806772036, 0.003763390801054006, 0.9728568197776759, 0.9854933513276203, 0.013499908922296168, 0.7277033828674344, 0.15354216993636804, 0.06487697321254987, 0.052982861456915734, 0.539607637544133, 0.016732019768810325, 0.06441827610991975, 0.3639214299716246, 0.015058817791929292, 0.04101605310189954, 0.9126071815172648, 0.04541063021996021, 0.9943522789108238, 0.004626899102943404, 0.9577681143092847, 0.032388293720603825, 0.004939000112080117, 0.9927390225281034, 0.974444726684716, 0.0627299949131558, 0.006969999434795088, 0.05924499519575825, 0.8538249307623983, 0.01742499858698772, 0.002406811968402913, 0.9723520352347768, 0.025271525668230585, 0.9954843788202865, 0.9844012751104642, 0.9718335026926863, 0.9898354247958113, 0.2130231098442102, 0.7848219836365639, 0.030915290346318947, 0.7893704135093438, 0.12778320009811833, 0.01236611613852758, 0.039159367772004, 0.004671933725574349, 0.21335164013456195, 0.7802129321709164, 0.0015573112418581165, 0.21499106709340346, 0.23242277523611185, 0.15467182304403157, 0.28886830636488187, 0.10901734933693819, 0.9901207962125299, 0.03810750101043077, 0.9145800242503385, 0.31763759405295594, 0.0008239626304875641, 0.007415663674388077, 0.3831426231767173, 0.2908588085621101, 0.14568614468163912, 0.012140512056803261, 0.07284307234081956, 0.7648522595786054, 0.38793035907223145, 0.22270076168961433, 0.02634095030737374, 0.3615894087648577, 0.9381790388792283, 0.009025358590038318, 0.9777471805874844, 0.012033811453384424, 0.9273743686416301, 0.05663176853903307, 0.25266481348183983, 0.07841321797712271, 0.605524294378892, 0.008712579775235856, 0.1913309140686403, 0.3826618281372806, 0.2808610567563414, 0.12497862557927812, 0.02045104782206369, 0.0351356206666267, 0.9069382084573016, 0.05709538358326838, 0.15183122949304226, 0.010122081966202817, 0.830010721228631, 0.04639165551718185, 0.9496644776458402, 0.005457841825550805, 0.9921778514742675, 0.03072842493208305, 0.9372169604285331, 0.015364212466041525, 0.029432962720759775, 0.696580117724648, 0.1643340418575754, 0.08339339437548603, 0.026980215827363124, 0.266743490266884, 0.46342664212632134, 0.08291544637211574, 0.10862566230145396, 0.07841615858448156, 0.950561787947272, 0.05232450028711868, 0.9014084367644536, 0.04518934115705704, 0.6500325416383022, 0.3066744948135557, 0.010271394563133442, 0.007336710402238174, 0.024944815367609792, 0.0753889573246724, 0.7538895732467241, 0.09423619665584052, 0.0753889573246724, 0.9610909124058837, 0.989945924777567, 0.9435774655603839, 0.9791214849962645, 0.013770347508365569, 0.12049054069819873, 0.719500657312101, 0.04131104252509671, 0.10327760631274177, 0.0012531995955863198, 0.08647077209545606, 0.20051193529381117, 0.7118173702930296, 0.036121590493059394, 0.036121590493059394, 0.9391613528195442, 0.9409394108232196, 0.9592553608457501, 0.0016139957965529707, 0.20013547877256838, 0.715000137872966, 0.07424380664143665, 0.009683974779317824, 0.9833791312710328, 0.992866116430863, 0.3893794815497012, 0.20049816398028814, 0.19167796577943855, 0.19178552917213182, 0.02667572138793533, 0.037071612593954924, 0.9638619274428281, 0.959115744194085, 0.28154269857206754, 0.3780027237787716, 0.23903999996536354, 0.08199102142569846, 0.019593442620111767, 0.560800600526705, 0.15410938363903307, 0.11422804154714272, 0.152632296894889, 0.017725040929729045, 0.2740236633217679, 0.3144933502536304, 0.1316483791759383, 0.2584208924564715, 0.021210016645012285, 0.10906601842040102, 0.7770953812453573, 0.04907970828918046, 0.059986310131220556, 0.0054533009210200505, 0.41843055997999345, 0.2815575764800443, 0.1433260522009393, 0.13132560865172954, 0.02535942787757536, 0.2937178862193184, 0.21917920814553365, 0.1357668779201079, 0.25467381675209777, 0.09672280845288732, 0.9912933911172096, 0.984603293362711, 0.9872958096568922, 0.9950519063141193, 0.6325900620373799, 0.0010387357340515269, 0.01350356454266985, 0.3323954348964886, 0.020774714681030537, 0.988575467253144, 0.00784583704169162, 0.029245462346816842, 0.21446672387665686, 0.750633533568299, 0.009748487448938947, 0.8936274458167208, 0.3850130847401802, 0.0064347590764375516, 0.04718823322720871, 0.487969229963181, 0.07399972937903185, 0.9818651599888827, 0.01242867291125168, 0.8759771356732465, 0.9796914195522788, 0.956227237933503, 0.09225076362889448, 0.29576580705447086, 0.4894219902448982, 0.07816667757868158, 0.04436487105817063, 0.13683530599497853, 0.6287638853984138, 0.09725484558320788, 0.04862742279160394, 0.08820788320337458, 0.994403968335187, 0.1834100978605568, 0.277942059519882, 0.29920044324231393, 0.10335192937395123, 0.13614411703089419, 0.9833539144577472, 0.10281263442827138, 0.25653249561228875, 0.10580717717860938, 0.47812865913730085, 0.05689631225642202, 0.12524806179436526, 0.003211488763958083, 0.8638904775047244, 0.003211488763958083, 0.20612766925429854, 0.7895078652570303, 0.003889201306684878, 0.2140852133288092, 0.13904503546097918, 0.004414128109872355, 0.6268061916018743, 0.015449448384553243, 0.00478391257525925, 0.09807020779281463, 0.8969836078611094, 0.23103468569015273, 0.0027180551257665027, 0.032616661509198036, 0.6278707340520622, 0.10600414990489361, 0.9909999494056697, 0.20604453638863876, 0.29755899802933733, 0.3353703624198056, 0.09425441558203687, 0.06630688538038641, 0.2982289311936383, 0.06897812014002518, 0.20287682394125053, 0.3550344418971884, 0.07574068093806686, 0.20322184503162027, 0.042152254534383295, 0.3510974371583389, 0.3867383678215573, 0.016792361562477896, 0.36460268041735666, 0.2213810017829605, 0.16054347457542936, 0.16857064830420082, 0.08449656556601545, 0.3747197617702216, 0.2225803220128698, 0.10614379517954775, 0.2528152212458319, 0.04406575739272134, 0.22141213063676518, 0.18337027807562215, 0.4205975609007277, 0.15473202951835716, 0.02008951764464858, 0.09423531760049453, 0.8598972731045126, 0.03533824410018545, 0.011779414700061816, 0.011779414700061816, 0.3025149419880504, 0.23235561629007362, 0.18369672911244458, 0.14182745409913586, 0.13918704936856682, 0.2690447125695377, 0.1529181121462197, 0.39613279583655214, 0.11417306882741174, 0.06783095819119044, 0.5618804014344552, 0.17578983768486792, 0.031275492594240305, 0.05823712414099919, 0.17255444189925687, 0.40808477712062835, 0.13538812605649084, 0.21636494849689786, 0.21220408410272676, 0.027845784791760524, 0.2679259831921777, 0.5448291937588927, 0.08951939410102021, 0.05297828549198794, 0.04488613687268669, 0.12465529369278705, 0.831035291285247, 0.031163823423196763, 0.005193970570532794, 0.015581911711598381, 0.31817608915628554, 0.4802497002546615, 0.10492133771105394, 0.04990161183818419, 0.04648953581506048, 0.1918556185492904, 0.6800735746950457, 0.07175088173388096, 0.026516630205999488, 0.032755837313293484, 0.9391070904831297], \"Term\": [\"3040\", \"about\", \"about\", \"about\", \"about\", \"about\", \"adorable\", \"after\", \"after\", \"after\", \"after\", \"after\", \"all\", \"all\", \"all\", \"all\", \"all\", \"also\", \"also\", \"also\", \"also\", \"also\", \"always\", \"always\", \"always\", \"always\", \"always\", \"amazing\", \"amazing\", \"amazing\", \"amazing\", \"amazing\", \"appointment\", \"appointment\", \"appointments\", \"aquarium\", \"are\", \"are\", \"are\", \"are\", \"are\", \"area\", \"area\", \"area\", \"area\", \"area\", \"arrived\", \"arrived\", \"arrived\", \"arrived\", \"arrived\", \"asked\", \"asked\", \"asked\", \"asked\", \"auto\", \"avocado\", \"awesome\", \"awesome\", \"awesome\", \"awesome\", \"awesome\", \"back\", \"back\", \"back\", \"back\", \"back\", \"barber\", \"barbers\", \"barbershop\", \"barista\", \"barista\", \"bartender\", \"bartender\", \"bartender\", \"bartender\", \"beats\", \"become\", \"become\", \"become\", \"beef\", \"beef\", \"beef\", \"been\", \"been\", \"been\", \"been\", \"been\", \"beer\", \"beer\", \"beer\", \"beer\", \"best\", \"best\", \"best\", \"best\", \"best\", \"bike\", \"bill\", \"bill\", \"bill\", \"bill\", \"bill\", \"boba\", \"boba\", \"boba\", \"bobbie\", \"booze\", \"bowling\", \"bread\", \"bread\", \"bread\", \"breweries\", \"brows\", \"bubble\", \"bubble\", \"bubble\", \"buffet\", \"buffet\", \"buffet\", \"buffet\", \"buffets\", \"business\", \"business\", \"business\", \"business\", \"business\", \"busser\", \"but\", \"but\", \"but\", \"but\", \"but\", \"butter\", \"butter\", \"butter\", \"butter\", \"cake\", \"cake\", \"cake\", \"cake\", \"cake\", \"call\", \"call\", \"call\", \"call\", \"call\", \"called\", \"called\", \"called\", \"called\", \"called\", \"calls\", \"calls\", \"came\", \"came\", \"came\", \"came\", \"came\", \"can\", \"can\", \"can\", \"can\", \"can\", \"car\", \"car\", \"carbs\", \"carbs\", \"care\", \"care\", \"care\", \"care\", \"care\", \"carpet\", \"casino\", \"casino\", \"casino\", \"casino\", \"casinos\", \"casinos\", \"cheap\", \"cheap\", \"cheap\", \"cheap\", \"cheese\", \"cheese\", \"cheese\", \"chicken\", \"chicken\", \"chicken\", \"chocolate\", \"chocolate\", \"chocolate\", \"christina\", \"class\", \"class\", \"class\", \"cleaning\", \"cleaning\", \"cleaning\", \"clearing\", \"coffee\", \"coffee\", \"coffee\", \"coffee\", \"coffee\", \"color\", \"color\", \"color\", \"color\", \"color\", \"company\", \"contract\", \"cooked\", \"cooked\", \"cooked\", \"coolest\", \"corn\", \"corn\", \"corn\", \"costco\", \"cousin\", \"crawfish\", \"cream\", \"cream\", \"cream\", \"creamy\", \"creme\", \"crispy\", \"crowd\", \"crowd\", \"crowd\", \"crunchy\", \"curry\", \"curry\", \"customer\", \"customer\", \"customer\", \"customer\", \"customer\", \"cut\", \"cut\", \"cut\", \"cut\", \"cut\", \"days\", \"days\", \"days\", \"days\", \"days\", \"dealership\", \"defiantly\", \"definitely\", \"definitely\", \"definitely\", \"definitely\", \"definitely\", \"delicious\", \"delicious\", \"delicious\", \"delicious\", \"dennys\", \"dental\", \"dentist\", \"desk\", \"desk\", \"desk\", \"dessert\", \"dessert\", \"dessert\", \"did\", \"did\", \"did\", \"did\", \"did\", \"didnt\", \"didnt\", \"didnt\", \"didnt\", \"didnt\", \"disappeared\", \"disappoints\", \"dish\", \"dish\", \"dish\", \"dishes\", \"dishes\", \"dishes\", \"dishes\", \"doctor\", \"downtown\", \"downtown\", \"downtown\", \"downtown\", \"drink\", \"drink\", \"drink\", \"drink\", \"drinks\", \"drinks\", \"drinks\", \"drinks\", \"drivethrough\", \"dunkin\", \"easter\", \"eggplant\", \"email\", \"empty\", \"empty\", \"empty\", \"empty\", \"espresso\", \"espresso\", \"espresso\", \"ethiopian\", \"experience\", \"experience\", \"experience\", \"experience\", \"experience\", \"eyebrow\", \"eyebrows\", \"facial\", \"facility\", \"fees\", \"finally\", \"finally\", \"finally\", \"finally\", \"finally\", \"fish\", \"fish\", \"fish\", \"fixed\", \"fixed\", \"fixed\", \"flavor\", \"flavor\", \"flavor\", \"food\", \"food\", \"food\", \"food\", \"fresh\", \"fresh\", \"fresh\", \"fresh\", \"fresh\", \"fridays\", \"fried\", \"fried\", \"fried\", \"friendly\", \"friendly\", \"friendly\", \"friendly\", \"friendly\", \"fries\", \"fries\", \"fries\", \"frills\", \"from\", \"from\", \"from\", \"from\", \"from\", \"funeral\", \"games\", \"games\", \"games\", \"garlic\", \"garlic\", \"gel\", \"gel\", \"gentle\", \"gentle\", \"get\", \"get\", \"get\", \"get\", \"get\", \"gluten\", \"gluten\", \"goat\", \"good\", \"good\", \"good\", \"good\", \"good\", \"got\", \"got\", \"got\", \"got\", \"got\", \"grabbed\", \"grabbed\", \"grabbed\", \"great\", \"great\", \"great\", \"great\", \"great\", \"griddle\", \"grilled\", \"grilled\", \"grimaldis\", \"grub\", \"gumbo\", \"had\", \"had\", \"had\", \"had\", \"had\", \"hair\", \"hair\", \"haircut\", \"has\", \"has\", \"has\", \"has\", \"has\", \"have\", \"have\", \"have\", \"have\", \"have\", \"help\", \"help\", \"help\", \"help\", \"help\", \"her\", \"her\", \"her\", \"her\", \"her\", \"here\", \"here\", \"here\", \"here\", \"here\", \"highly\", \"highly\", \"highly\", \"highly\", \"highly\", \"hike\", \"him\", \"him\", \"him\", \"him\", \"his\", \"his\", \"his\", \"his\", \"his\", \"hostess\", \"hostess\", \"hostesses\", \"ihop\", \"information\", \"information\", \"insurance\", \"its\", \"its\", \"its\", \"its\", \"its\", \"jeremy\", \"job\", \"job\", \"job\", \"job\", \"job\", \"just\", \"just\", \"just\", \"just\", \"just\", \"karaoke\", \"lamb\", \"lamb\", \"lash\", \"lashes\", \"like\", \"like\", \"like\", \"like\", \"like\", \"listens\", \"loads\", \"lobster\", \"lobster\", \"lobster\", \"love\", \"love\", \"love\", \"love\", \"love\", \"loves\", \"loves\", \"loves\", \"loves\", \"lux\", \"maintenance\", \"mall\", \"mall\", \"mall\", \"mall\", \"mani\", \"mani\", \"manicure\", \"manicure\", \"manicures\", \"massage\", \"massage\", \"meat\", \"meat\", \"meat\", \"meat\", \"menu\", \"menu\", \"menu\", \"menu\", \"menu\", \"menus\", \"menus\", \"menus\", \"mimosa\", \"mins\", \"mins\", \"mins\", \"minutes\", \"minutes\", \"minutes\", \"minutes\", \"minutes\", \"mocha\", \"mocha\", \"moist\", \"mushroom\", \"mushrooms\", \"music\", \"music\", \"music\", \"music\", \"music\", \"mussels\", \"nail\", \"nail\", \"nails\", \"nails\", \"noir\", \"not\", \"not\", \"not\", \"not\", \"not\", \"obsessed\", \"office\", \"office\", \"ohio\", \"one\", \"one\", \"one\", \"one\", \"one\", \"order\", \"order\", \"order\", \"order\", \"ordered\", \"ordered\", \"ordered\", \"ordered\", \"orders\", \"orders\", \"orders\", \"orders\", \"our\", \"our\", \"our\", \"our\", \"our\", \"out\", \"out\", \"out\", \"out\", \"out\", \"outdoor\", \"outdoor\", \"outdoor\", \"outdoor\", \"oxtail\", \"park\", \"park\", \"park\", \"park\", \"park\", \"parmesan\", \"party\", \"party\", \"party\", \"party\", \"pastor\", \"pastor\", \"pedi\", \"pedi\", \"pedicure\", \"pedicure\", \"pedicures\", \"pedicures\", \"peppers\", \"peppers\", \"phone\", \"phone\", \"picnic\", \"pinot\", \"place\", \"place\", \"place\", \"place\", \"place\", \"places\", \"places\", \"places\", \"places\", \"places\", \"poisoning\", \"polish\", \"polish\", \"polish\", \"pork\", \"pork\", \"pork\", \"precise\", \"pretty\", \"pretty\", \"pretty\", \"pretty\", \"pretty\", \"prices\", \"prices\", \"prices\", \"prices\", \"prices\", \"process\", \"process\", \"process\", \"process\", \"produce\", \"produce\", \"professional\", \"professional\", \"professional\", \"professional\", \"property\", \"property\", \"psychic\", \"pudding\", \"punch\", \"punch\", \"purchased\", \"purchased\", \"purchased\", \"purchased\", \"really\", \"really\", \"really\", \"really\", \"really\", \"recommend\", \"recommend\", \"recommend\", \"recommend\", \"recommend\", \"refill\", \"refill\", \"refills\", \"refills\", \"refills\", \"refills\", \"relaxing\", \"relaxing\", \"relaxing\", \"rent\", \"rental\", \"repair\", \"rice\", \"rice\", \"rice\", \"risotto\", \"roasted\", \"roasted\", \"room\", \"room\", \"room\", \"room\", \"said\", \"said\", \"said\", \"said\", \"said\", \"salad\", \"salad\", \"salad\", \"sales\", \"salmon\", \"salmon\", \"salmon\", \"salon\", \"salon\", \"salons\", \"sat\", \"sat\", \"sat\", \"sat\", \"sat\", \"sauce\", \"sauce\", \"sauce\", \"schedule\", \"scheduled\", \"scramble\", \"seasoned\", \"seated\", \"seated\", \"selection\", \"selection\", \"selection\", \"selection\", \"selection\", \"server\", \"server\", \"server\", \"server\", \"service\", \"service\", \"service\", \"service\", \"service\", \"sesame\", \"shakes\", \"shakes\", \"she\", \"she\", \"she\", \"she\", \"she\", \"shes\", \"shes\", \"shes\", \"shes\", \"shop\", \"shop\", \"shop\", \"shop\", \"shoyu\", \"shrimp\", \"shrimp\", \"shrimp\", \"sisig\", \"slow\", \"slow\", \"slow\", \"slow\", \"slow\", \"some\", \"some\", \"some\", \"some\", \"some\", \"soup\", \"soup\", \"soup\", \"spa\", \"spa\", \"spa\", \"spicy\", \"spicy\", \"spicy\", \"spinach\", \"sports\", \"sports\", \"sports\", \"spot\", \"spot\", \"spot\", \"spot\", \"spot\", \"staff\", \"staff\", \"staff\", \"staff\", \"staff\", \"stations\", \"steak\", \"steak\", \"steak\", \"store\", \"store\", \"store\", \"store\", \"store\", \"strip\", \"strip\", \"strip\", \"strip\", \"study\", \"stylist\", \"subway\", \"suite\", \"sweet\", \"sweet\", \"sweet\", \"sweet\", \"sweet\", \"table\", \"table\", \"table\", \"table\", \"talented\", \"talented\", \"talented\", \"taps\", \"taquitos\", \"taste\", \"taste\", \"taste\", \"taste\", \"taste\", \"technician\", \"tempura\", \"that\", \"that\", \"that\", \"that\", \"that\", \"theater\", \"theater\", \"theaters\", \"their\", \"their\", \"their\", \"their\", \"their\", \"them\", \"them\", \"them\", \"them\", \"them\", \"there\", \"there\", \"there\", \"there\", \"there\", \"theres\", \"theres\", \"theres\", \"theres\", \"theres\", \"they\", \"they\", \"they\", \"they\", \"they\", \"time\", \"time\", \"time\", \"time\", \"time\", \"tire\", \"tires\", \"toasted\", \"tofu\", \"told\", \"told\", \"told\", \"told\", \"told\", \"tomato\", \"tomato\", \"tonight\", \"tonight\", \"tonight\", \"tonight\", \"tonkotsu\", \"took\", \"took\", \"took\", \"took\", \"took\", \"topped\", \"topped\", \"tostada\", \"trail\", \"trails\", \"try\", \"try\", \"try\", \"try\", \"try\", \"vegas\", \"vegas\", \"vegas\", \"vegas\", \"vegas\", \"vehicle\", \"very\", \"very\", \"very\", \"very\", \"very\", \"vet\", \"wait\", \"wait\", \"wait\", \"wait\", \"wait\", \"waited\", \"waited\", \"waited\", \"waited\", \"waiter\", \"waiter\", \"waiter\", \"waiting\", \"waiting\", \"waiting\", \"waiting\", \"waiting\", \"waitress\", \"waitress\", \"waitress\", \"walked\", \"walked\", \"walked\", \"walked\", \"walked\", \"warranty\", \"well\", \"well\", \"well\", \"well\", \"well\", \"went\", \"went\", \"went\", \"went\", \"went\", \"were\", \"were\", \"were\", \"were\", \"were\", \"what\", \"what\", \"what\", \"what\", \"what\", \"when\", \"when\", \"when\", \"when\", \"when\", \"which\", \"which\", \"which\", \"which\", \"which\", \"wide\", \"wide\", \"wide\", \"wide\", \"wide\", \"will\", \"will\", \"will\", \"will\", \"will\", \"with\", \"with\", \"with\", \"with\", \"with\", \"work\", \"work\", \"work\", \"work\", \"work\", \"would\", \"would\", \"would\", \"would\", \"would\", \"you\", \"you\", \"you\", \"you\", \"you\", \"youll\", \"youll\", \"youll\", \"youll\", \"youll\", \"your\", \"your\", \"your\", \"your\", \"your\", \"youre\", \"youre\", \"youre\", \"youre\", \"youre\", \"zoo\"]}, \"R\": 30, \"lambda.step\": 0.01, \"plot.opts\": {\"xlab\": \"PC1\", \"ylab\": \"PC2\"}, \"topic.order\": [4, 1, 5, 2, 3]};\n",
              "\n",
              "function LDAvis_load_lib(url, callback){\n",
              "  var s = document.createElement('script');\n",
              "  s.src = url;\n",
              "  s.async = true;\n",
              "  s.onreadystatechange = s.onload = callback;\n",
              "  s.onerror = function(){console.warn(\"failed to load library \" + url);};\n",
              "  document.getElementsByTagName(\"head\")[0].appendChild(s);\n",
              "}\n",
              "\n",
              "if(typeof(LDAvis) !== \"undefined\"){\n",
              "   // already loaded: just create the visualization\n",
              "   !function(LDAvis){\n",
              "       new LDAvis(\"#\" + \"ldavis_el128139833203036272195344570\", ldavis_el128139833203036272195344570_data);\n",
              "   }(LDAvis);\n",
              "}else if(typeof define === \"function\" && define.amd){\n",
              "   // require.js is available: use it to load d3/LDAvis\n",
              "   require.config({paths: {d3: \"https://d3js.org/d3.v5\"}});\n",
              "   require([\"d3\"], function(d3){\n",
              "      window.d3 = d3;\n",
              "      LDAvis_load_lib(\"https://cdn.jsdelivr.net/gh/bmabey/pyLDAvis@3.4.0/pyLDAvis/js/ldavis.v3.0.0.js\", function(){\n",
              "        new LDAvis(\"#\" + \"ldavis_el128139833203036272195344570\", ldavis_el128139833203036272195344570_data);\n",
              "      });\n",
              "    });\n",
              "}else{\n",
              "    // require.js not available: dynamically load d3 & LDAvis\n",
              "    LDAvis_load_lib(\"https://d3js.org/d3.v5.js\", function(){\n",
              "         LDAvis_load_lib(\"https://cdn.jsdelivr.net/gh/bmabey/pyLDAvis@3.4.0/pyLDAvis/js/ldavis.v3.0.0.js\", function(){\n",
              "                 new LDAvis(\"#\" + \"ldavis_el128139833203036272195344570\", ldavis_el128139833203036272195344570_data);\n",
              "            })\n",
              "         });\n",
              "}\n",
              "</script>"
            ]
          },
          "metadata": {},
          "execution_count": 27
        }
      ],
      "source": [
        "# Cell for pyLDAvis visualization\n",
        "# YOUR CODE HERE\n",
        "# pyLDAvis.enable_notebook()\n",
        "# vis = pyLDAvis.gensim.prepare(lda, corpus, id2word)\n",
        "# vis"
      ]
    },
    {
      "cell_type": "code",
      "source": [
        "# Assume you have an LDA model\n",
        "lda_model = lda\n",
        "dictionary = id2word\n",
        "\n",
        "# Set the range of topics to evaluate coherence\n",
        "start_topic_num = 2\n",
        "end_topic_num = 10\n",
        "step = 1\n",
        "\n",
        "# Initialize lists to store topic numbers and coherence scores\n",
        "topic_nums = []\n",
        "coherence_scores = []\n",
        "\n",
        "# Iterate over different numbers of topics\n",
        "for num_topics in range(start_topic_num, end_topic_num + 1, step):\n",
        "    # Train the LDA model with the current number of topics\n",
        "    current_lda_model = LdaModel(corpus, num_topics=num_topics, id2word=dictionary)\n",
        "    \n",
        "    # Compute the coherence score for the current model\n",
        "    coherence = CoherenceModel(model=current_lda_model, texts=df['clean_data'], dictionary=dictionary, coherence='c_v')\n",
        "    coherence_score = coherence.get_coherence()\n",
        "    \n",
        "    # Store the topic number and coherence score\n",
        "    topic_nums.append(num_topics)\n",
        "    coherence_scores.append(coherence_score)\n",
        "\n",
        "# Create a line plot of topic coherence\n",
        "fig, ax = plt.subplots()\n",
        "visual_plot = ax.plot(topic_nums, coherence_scores, marker='o')\n",
        "plt.xlabel('Number of Topics')\n",
        "plt.ylabel('Coherence Score')\n",
        "plt.title('Topic Coherence vs. Number of Topics')\n",
        "plt.show()"
      ],
      "metadata": {
        "id": "CXQdr8hbvb32",
        "outputId": "16632f82-0e8a-443a-bb98-ba3f765f7ba1",
        "colab": {
          "base_uri": "https://localhost:8080/",
          "height": 628
        }
      },
      "execution_count": 32,
      "outputs": [
        {
          "output_type": "stream",
          "name": "stderr",
          "text": [
            "WARNING:gensim.models.ldamodel:too few updates, training might not converge; consider increasing the number of passes or iterations to improve accuracy\n",
            "WARNING:gensim.models.ldamodel:too few updates, training might not converge; consider increasing the number of passes or iterations to improve accuracy\n",
            "WARNING:gensim.models.ldamodel:too few updates, training might not converge; consider increasing the number of passes or iterations to improve accuracy\n",
            "WARNING:gensim.models.ldamodel:too few updates, training might not converge; consider increasing the number of passes or iterations to improve accuracy\n",
            "WARNING:gensim.models.ldamodel:too few updates, training might not converge; consider increasing the number of passes or iterations to improve accuracy\n",
            "WARNING:gensim.models.ldamodel:too few updates, training might not converge; consider increasing the number of passes or iterations to improve accuracy\n",
            "WARNING:gensim.models.ldamodel:too few updates, training might not converge; consider increasing the number of passes or iterations to improve accuracy\n",
            "WARNING:gensim.models.ldamodel:too few updates, training might not converge; consider increasing the number of passes or iterations to improve accuracy\n",
            "WARNING:gensim.models.ldamodel:too few updates, training might not converge; consider increasing the number of passes or iterations to improve accuracy\n"
          ]
        },
        {
          "output_type": "display_data",
          "data": {
            "text/plain": [
              "<Figure size 640x480 with 1 Axes>"
            ],
            "image/png": "[encoded data removed]"
          },
          "metadata": {}
        }
      ]
    },
    {
      "cell_type": "code",
      "execution_count": 33,
      "metadata": {
        "deletable": false,
        "editable": false,
        "nbgrader": {
          "cell_type": "code",
          "checksum": "97e1c557c7e019c69cc2714b055fb767",
          "grade": true,
          "grade_id": "cell-f5fa579a25122b47",
          "locked": true,
          "points": 1,
          "schema_version": 3,
          "solution": false,
          "task": false
        },
        "id": "bfKLP9PLzPRg",
        "colab": {
          "base_uri": "https://localhost:8080/",
          "height": 183
        },
        "outputId": "bcd21113-8b32-4a64-ed7a-78e456adf3fd"
      },
      "outputs": [
        {
          "output_type": "error",
          "ename": "AttributeError",
          "evalue": "ignored",
          "traceback": [
            "\u001b[0;31m---------------------------------------------------------------------------\u001b[0m",
            "\u001b[0;31mAttributeError\u001b[0m                            Traceback (most recent call last)",
            "\u001b[0;32m<ipython-input-33-45ee2d921789>\u001b[0m in \u001b[0;36m<cell line: 2>\u001b[0;34m()\u001b[0m\n\u001b[1;32m      1\u001b[0m \u001b[0;31m# Visible Testing\u001b[0m\u001b[0;34m\u001b[0m\u001b[0;34m\u001b[0m\u001b[0m\n\u001b[0;32m----> 2\u001b[0;31m \u001b[0;32massert\u001b[0m \u001b[0mvisual_plot\u001b[0m\u001b[0;34m.\u001b[0m\u001b[0m__module__\u001b[0m \u001b[0;34m==\u001b[0m \u001b[0;34m'matplotlib.axes._subplots'\u001b[0m\u001b[0;34m,\u001b[0m \u001b[0;34m\"You must create and assign to visual_plot a visualization\"\u001b[0m\u001b[0;34m\u001b[0m\u001b[0;34m\u001b[0m\u001b[0m\n\u001b[0m",
            "\u001b[0;31mAttributeError\u001b[0m: 'list' object has no attribute '__module__'"
          ]
        }
      ],
      "source": [
        "# Visible Testing\n",
        "assert visual_plot.__module__ == 'matplotlib.axes._subplots', \"You must create and assign to visual_plot a visualization\"\n"
      ]
    },
    {
      "cell_type": "code",
      "source": [
        "\"\"\" \"\"\""
      ],
      "metadata": {
        "id": "LWHi_uxSHbg3"
      },
      "execution_count": null,
      "outputs": []
    }
  ],
  "metadata": {
    "kernel_info": {
      "name": "u4-s1-nlp"
    },
    "kernelspec": {
      "display_name": "Python 3.10.2 64-bit",
      "language": "python",
      "name": "python3"
    },
    "language_info": {
      "codemirror_mode": {
        "name": "ipython",
        "version": 3
      },
      "file_extension": ".py",
      "mimetype": "text/x-python",
      "name": "python",
      "nbconvert_exporter": "python",
      "pygments_lexer": "ipython3",
      "version": "3.10.2"
    },
    "nteract": {
      "version": "0.15.0"
    },
    "toc-autonumbering": false,
    "vscode": {
      "interpreter": {
        "hash": "aee8b7b246df8f9039afb4144a1f6fd8d2ca17a180786b69acc140d282b71a49"
      }
    },
    "colab": {
      "provenance": []
    }
  },
  "nbformat": 4,
  "nbformat_minor": 0
}